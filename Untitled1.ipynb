{
 "cells": [
  {
   "cell_type": "code",
   "execution_count": 5,
   "metadata": {},
   "outputs": [
    {
     "data": {
      "text/plain": [
       "'http://apis.data.go.kr/1160100/service/GetNonlInsuCompInfoService/getNonlInsuCompFinaInfo?pageNo=1&numOfRows=1&resultType=xml&title=손보_재무현황_요약재무상태표(자산-전체)&basYm=201306&serviceKey=GsACnsPniN6nEyKT%2BZ4mzx8suMwolIcpZpoif9KzPO%2BrIIgLhlhF7U3HUv%2BzaEndRhofIlcMc3%2BYcf063RvHIg%3D%3D&type=json'"
      ]
     },
     "execution_count": 5,
     "metadata": {},
     "output_type": "execute_result"
    }
   ],
   "source": [
    "url4='http://apis.data.go.kr/1160100/service/GetNonlInsuCompInfoService/getNonlInsuCompFinaInfo?pageNo=1&numOfRows=1&resultType=xml&title=손보_재무현황_요약재무상태표(자산-전체)&basYm=201306&serviceKey='\n",
    "\n",
    "url4+my_key+url3"
   ]
  },
  {
   "cell_type": "code",
   "execution_count": null,
   "metadata": {},
   "outputs": [],
   "source": [
    "import urllib.request\n",
    "res=urllib.request.urlopen(url)\n",
    "res"
   ]
  },
  {
   "cell_type": "code",
   "execution_count": null,
   "metadata": {},
   "outputs": [],
   "source": [
    "json_str=res.read().decode('utf-8')\n",
    "json_str"
   ]
  },
  {
   "cell_type": "code",
   "execution_count": null,
   "metadata": {},
   "outputs": [],
   "source": [
    "import json\n",
    "json_object=json.loads(json_str)\n",
    "json_object"
   ]
  }
 ],
 "metadata": {
  "kernelspec": {
   "display_name": "Python 3",
   "language": "python",
   "name": "python3"
  },
  "language_info": {
   "codemirror_mode": {
    "name": "ipython",
    "version": 3
   },
   "file_extension": ".py",
   "mimetype": "text/x-python",
   "name": "python",
   "nbconvert_exporter": "python",
   "pygments_lexer": "ipython3",
   "version": "3.8.3"
  }
 },
 "nbformat": 4,
 "nbformat_minor": 4
}
