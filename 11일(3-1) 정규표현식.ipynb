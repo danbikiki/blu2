{
 "cells": [
  {
   "cell_type": "code",
   "execution_count": 1,
   "metadata": {},
   "outputs": [],
   "source": [
    "import re"
   ]
  },
  {
   "cell_type": "code",
   "execution_count": 2,
   "metadata": {},
   "outputs": [],
   "source": [
    "p=re.compile('ab*')"
   ]
  },
  {
   "cell_type": "code",
   "execution_count": 3,
   "metadata": {},
   "outputs": [
    {
     "data": {
      "text/plain": [
       "re.compile(r'ab*', re.UNICODE)"
      ]
     },
     "execution_count": 3,
     "metadata": {},
     "output_type": "execute_result"
    }
   ],
   "source": [
    "p"
   ]
  },
  {
   "cell_type": "code",
   "execution_count": 6,
   "metadata": {},
   "outputs": [
    {
     "data": {
      "text/plain": [
       "<re.Match object; span=(0, 2), match='ab'>"
      ]
     },
     "execution_count": 6,
     "metadata": {},
     "output_type": "execute_result"
    }
   ],
   "source": [
    "p=re.compile('[a-z]+')\n",
    "p.match('ab3ab')"
   ]
  },
  {
   "cell_type": "code",
   "execution_count": 7,
   "metadata": {},
   "outputs": [
    {
     "data": {
      "text/plain": [
       "<re.Match object; span=(0, 2), match='db'>"
      ]
     },
     "execution_count": 7,
     "metadata": {},
     "output_type": "execute_result"
    }
   ],
   "source": [
    "p.match('db')"
   ]
  },
  {
   "cell_type": "code",
   "execution_count": 9,
   "metadata": {},
   "outputs": [
    {
     "data": {
      "text/plain": [
       "<re.Match object; span=(0, 5), match='tempo'>"
      ]
     },
     "execution_count": 9,
     "metadata": {},
     "output_type": "execute_result"
    }
   ],
   "source": [
    "#문자열 처음부터 시작하여 같은 모양 있는지 확인\n",
    "m=p.match('tempo')\n",
    "m"
   ]
  },
  {
   "cell_type": "code",
   "execution_count": 10,
   "metadata": {},
   "outputs": [
    {
     "data": {
      "text/plain": [
       "'tempo'"
      ]
     },
     "execution_count": 10,
     "metadata": {},
     "output_type": "execute_result"
    }
   ],
   "source": [
    "m.group()"
   ]
  },
  {
   "cell_type": "code",
   "execution_count": 12,
   "metadata": {},
   "outputs": [
    {
     "data": {
      "text/plain": [
       "0"
      ]
     },
     "execution_count": 12,
     "metadata": {},
     "output_type": "execute_result"
    }
   ],
   "source": [
    "m.start()"
   ]
  },
  {
   "cell_type": "code",
   "execution_count": 13,
   "metadata": {},
   "outputs": [
    {
     "data": {
      "text/plain": [
       "5"
      ]
     },
     "execution_count": 13,
     "metadata": {},
     "output_type": "execute_result"
    }
   ],
   "source": [
    "m.end() #span=중 둘째자리 숫자"
   ]
  },
  {
   "cell_type": "code",
   "execution_count": 14,
   "metadata": {},
   "outputs": [
    {
     "data": {
      "text/plain": [
       "(0, 5)"
      ]
     },
     "execution_count": 14,
     "metadata": {},
     "output_type": "execute_result"
    }
   ],
   "source": [
    "m.span()"
   ]
  },
  {
   "cell_type": "code",
   "execution_count": 15,
   "metadata": {},
   "outputs": [
    {
     "name": "stdout",
     "output_type": "stream",
     "text": [
      "None\n"
     ]
    }
   ],
   "source": [
    "print(p.match('     message'))"
   ]
  },
  {
   "cell_type": "code",
   "execution_count": 17,
   "metadata": {},
   "outputs": [
    {
     "name": "stdout",
     "output_type": "stream",
     "text": [
      "<re.Match object; span=(14, 21), match='message'>\n"
     ]
    }
   ],
   "source": [
    "m=p.search(\"              message 454 absfg\")\n",
    "print(m)"
   ]
  },
  {
   "cell_type": "code",
   "execution_count": 18,
   "metadata": {},
   "outputs": [
    {
     "data": {
      "text/plain": [
       "'message'"
      ]
     },
     "execution_count": 18,
     "metadata": {},
     "output_type": "execute_result"
    }
   ],
   "source": [
    "m.group()"
   ]
  },
  {
   "cell_type": "code",
   "execution_count": 19,
   "metadata": {},
   "outputs": [
    {
     "data": {
      "text/plain": [
       "(14, 21)"
      ]
     },
     "execution_count": 19,
     "metadata": {},
     "output_type": "execute_result"
    }
   ],
   "source": [
    "m.span()"
   ]
  },
  {
   "cell_type": "code",
   "execution_count": 20,
   "metadata": {},
   "outputs": [
    {
     "data": {
      "text/plain": [
       "21"
      ]
     },
     "execution_count": 20,
     "metadata": {},
     "output_type": "execute_result"
    }
   ],
   "source": [
    "m.end()"
   ]
  },
  {
   "cell_type": "code",
   "execution_count": 22,
   "metadata": {},
   "outputs": [
    {
     "data": {
      "text/plain": [
       "14"
      ]
     },
     "execution_count": 22,
     "metadata": {},
     "output_type": "execute_result"
    }
   ],
   "source": [
    "m.start()"
   ]
  },
  {
   "cell_type": "code",
   "execution_count": 23,
   "metadata": {},
   "outputs": [
    {
     "data": {
      "text/plain": [
       "<re.Match object; span=(0, 6), match='string'>"
      ]
     },
     "execution_count": 23,
     "metadata": {},
     "output_type": "execute_result"
    }
   ],
   "source": [
    "p=re.compile('[a-z]+')\n",
    "m=p.match('string goes here')\n",
    "m"
   ]
  },
  {
   "cell_type": "code",
   "execution_count": null,
   "metadata": {},
   "outputs": [],
   "source": [
    "if m:\n",
    "    print('match found',m.group())\n",
    "    "
   ]
  },
  {
   "cell_type": "code",
   "execution_count": 31,
   "metadata": {},
   "outputs": [
    {
     "data": {
      "text/plain": [
       "['12', '11', '10']"
      ]
     },
     "execution_count": 31,
     "metadata": {},
     "output_type": "execute_result"
    }
   ],
   "source": [
    "p=re.compile(r'\\d+')\n",
    "p.findall('12 drummers drumming,11 pipers piping, 10 lords a-leaping')"
   ]
  },
  {
   "cell_type": "code",
   "execution_count": 32,
   "metadata": {},
   "outputs": [
    {
     "data": {
      "text/plain": [
       "[<re.Match object; span=(0, 2), match='12'>,\n",
       " <re.Match object; span=(21, 23), match='11'>,\n",
       " <re.Match object; span=(39, 41), match='10'>]"
      ]
     },
     "execution_count": 32,
     "metadata": {},
     "output_type": "execute_result"
    }
   ],
   "source": [
    "iterator=p.finditer('12 drummers drumming,11 pipers piping, 10 lords a-leaping')\n",
    "list(iterator)"
   ]
  },
  {
   "cell_type": "code",
   "execution_count": 52,
   "metadata": {},
   "outputs": [],
   "source": [
    "for match in iterator:\n",
    "    print(match.span())"
   ]
  },
  {
   "cell_type": "code",
   "execution_count": 37,
   "metadata": {},
   "outputs": [
    {
     "data": {
      "text/plain": [
       "re.compile(r'에러 1033', re.UNICODE)"
      ]
     },
     "execution_count": 37,
     "metadata": {},
     "output_type": "execute_result"
    }
   ],
   "source": [
    "import re\n",
    "text='에러 1122:레퍼런스 오류\\n 에러 1033:아규먼트 오류'\n",
    "regex=re.compile('에러 1033')\n",
    "regex"
   ]
  },
  {
   "cell_type": "code",
   "execution_count": 40,
   "metadata": {},
   "outputs": [
    {
     "data": {
      "text/plain": [
       "<re.Match object; span=(17, 24), match='에러 1033'>"
      ]
     },
     "execution_count": 40,
     "metadata": {},
     "output_type": "execute_result"
    }
   ],
   "source": [
    "mo=regex.search(text)\n",
    "mo"
   ]
  },
  {
   "cell_type": "code",
   "execution_count": 42,
   "metadata": {},
   "outputs": [
    {
     "data": {
      "text/plain": [
       "re.compile(r'\\d\\d\\d-\\d\\d\\d\\d-\\d\\d\\d\\d', re.UNICODE)"
      ]
     },
     "execution_count": 42,
     "metadata": {},
     "output_type": "execute_result"
    }
   ],
   "source": [
    "import re\n",
    "text='문의 사항이 있으면 020-3456-1236으로 전화주세요'\n",
    "regex=re.compile(r'\\d\\d\\d-\\d\\d\\d\\d-\\d\\d\\d\\d')\n",
    "regex"
   ]
  },
  {
   "cell_type": "code",
   "execution_count": 51,
   "metadata": {},
   "outputs": [
    {
     "name": "stdout",
     "output_type": "stream",
     "text": [
      "None\n"
     ]
    },
    {
     "ename": "AttributeError",
     "evalue": "'NoneType' object has no attribute 'group'",
     "output_type": "error",
     "traceback": [
      "\u001b[1;31m---------------------------------------------------------------------------\u001b[0m",
      "\u001b[1;31mAttributeError\u001b[0m                            Traceback (most recent call last)",
      "\u001b[1;32m<ipython-input-51-aac23eaa4ba2>\u001b[0m in \u001b[0;36m<module>\u001b[1;34m\u001b[0m\n\u001b[0;32m      5\u001b[0m \u001b[0mprint\u001b[0m\u001b[1;33m(\u001b[0m\u001b[0mmo\u001b[0m\u001b[1;33m)\u001b[0m\u001b[1;33m\u001b[0m\u001b[1;33m\u001b[0m\u001b[0m\n\u001b[0;32m      6\u001b[0m \u001b[1;33m\u001b[0m\u001b[0m\n\u001b[1;32m----> 7\u001b[1;33m \u001b[0mprint\u001b[0m\u001b[1;33m(\u001b[0m\u001b[0mmo\u001b[0m\u001b[1;33m.\u001b[0m\u001b[0mgroup\u001b[0m\u001b[1;33m(\u001b[0m\u001b[1;36m1\u001b[0m\u001b[1;33m)\u001b[0m\u001b[1;33m)\u001b[0m\u001b[1;33m\u001b[0m\u001b[1;33m\u001b[0m\u001b[0m\n\u001b[0m\u001b[0;32m      8\u001b[0m \u001b[0mprint\u001b[0m\u001b[1;33m(\u001b[0m\u001b[0mmo\u001b[0m\u001b[1;33m.\u001b[0m\u001b[0mgroup\u001b[0m\u001b[1;33m(\u001b[0m\u001b[1;36m2\u001b[0m\u001b[1;33m)\u001b[0m\u001b[1;33m)\u001b[0m\u001b[1;33m\u001b[0m\u001b[1;33m\u001b[0m\u001b[0m\n\u001b[0;32m      9\u001b[0m \u001b[0mprint\u001b[0m\u001b[1;33m(\u001b[0m\u001b[0mmo\u001b[0m\u001b[1;33m.\u001b[0m\u001b[0mgroup\u001b[0m\u001b[1;33m(\u001b[0m\u001b[1;33m)\u001b[0m\u001b[1;33m)\u001b[0m\u001b[1;33m\u001b[0m\u001b[1;33m\u001b[0m\u001b[0m\n",
      "\u001b[1;31mAttributeError\u001b[0m: 'NoneType' object has no attribute 'group'"
     ]
    }
   ],
   "source": [
    "import re\n",
    "text='문의 사항이 있으면 020-3456-1236으로 전화주세요'\n",
    "regex=re.compile(r'(\\d{3})-(\\d{3}-\\d{4})')\n",
    "mo=regex.search(text)\n",
    "print(mo)\n",
    "\n",
    "print(mo.group(1))\n",
    "print(mo.group(2))\n",
    "print(mo.group())"
   ]
  },
  {
   "cell_type": "code",
   "execution_count": 54,
   "metadata": {},
   "outputs": [
    {
     "name": "stdout",
     "output_type": "stream",
     "text": [
      "re.compile('\\\\d[2]')\n"
     ]
    },
    {
     "ename": "TypeError",
     "evalue": "findall() missing required argument 'string' (pos 1)",
     "output_type": "error",
     "traceback": [
      "\u001b[1;31m---------------------------------------------------------------------------\u001b[0m",
      "\u001b[1;31mTypeError\u001b[0m                                 Traceback (most recent call last)",
      "\u001b[1;32m<ipython-input-54-888725894cc9>\u001b[0m in \u001b[0;36m<module>\u001b[1;34m\u001b[0m\n\u001b[0;32m      2\u001b[0m \u001b[0mp\u001b[0m\u001b[1;33m=\u001b[0m\u001b[0mre\u001b[0m\u001b[1;33m.\u001b[0m\u001b[0mcompile\u001b[0m\u001b[1;33m(\u001b[0m\u001b[1;34m'\\d[2]'\u001b[0m\u001b[1;33m)\u001b[0m\u001b[1;33m\u001b[0m\u001b[1;33m\u001b[0m\u001b[0m\n\u001b[0;32m      3\u001b[0m \u001b[0mprint\u001b[0m\u001b[1;33m(\u001b[0m\u001b[0mp\u001b[0m\u001b[1;33m)\u001b[0m\u001b[1;33m\u001b[0m\u001b[1;33m\u001b[0m\u001b[0m\n\u001b[1;32m----> 4\u001b[1;33m \u001b[0mtest_1\u001b[0m\u001b[1;33m=\u001b[0m\u001b[0mp\u001b[0m\u001b[1;33m.\u001b[0m\u001b[0mfindall\u001b[0m\u001b[1;33m(\u001b[0m\u001b[1;33m)\u001b[0m\u001b[1;33m\u001b[0m\u001b[1;33m\u001b[0m\u001b[0m\n\u001b[0m",
      "\u001b[1;31mTypeError\u001b[0m: findall() missing required argument 'string' (pos 1)"
     ]
    }
   ],
   "source": [
    "import re\n",
    "p=re.compile('\\d[2]')\n",
    "print(p)\n",
    "test_1=p.findall()"
   ]
  },
  {
   "cell_type": "code",
   "execution_count": 55,
   "metadata": {},
   "outputs": [],
   "source": [
    "import pandas as pd\n",
    "import numpy as np\n",
    "import matplotlib.pyplot as plt\n",
    "import seaborn as sns"
   ]
  },
  {
   "cell_type": "code",
   "execution_count": 86,
   "metadata": {},
   "outputs": [],
   "source": [
    "frame=pd.read_csv(\"C:/Users/ASIA_08/seoul_crime_2015.csv\",encoding='CP949')"
   ]
  },
  {
   "cell_type": "code",
   "execution_count": 87,
   "metadata": {},
   "outputs": [
    {
     "data": {
      "text/html": [
       "<div>\n",
       "<style scoped>\n",
       "    .dataframe tbody tr th:only-of-type {\n",
       "        vertical-align: middle;\n",
       "    }\n",
       "\n",
       "    .dataframe tbody tr th {\n",
       "        vertical-align: top;\n",
       "    }\n",
       "\n",
       "    .dataframe thead th {\n",
       "        text-align: right;\n",
       "    }\n",
       "</style>\n",
       "<table border=\"1\" class=\"dataframe\">\n",
       "  <thead>\n",
       "    <tr style=\"text-align: right;\">\n",
       "      <th></th>\n",
       "      <th>관서명</th>\n",
       "      <th>살인(발생)</th>\n",
       "      <th>살인(검거)</th>\n",
       "      <th>강도(발생)</th>\n",
       "      <th>강도(검거)</th>\n",
       "      <th>강간(발생)</th>\n",
       "      <th>강간(검거)</th>\n",
       "      <th>절도(발생)</th>\n",
       "      <th>절도(검거)</th>\n",
       "      <th>폭력(발생)</th>\n",
       "      <th>폭력(검거)</th>\n",
       "    </tr>\n",
       "  </thead>\n",
       "  <tbody>\n",
       "    <tr>\n",
       "      <th>0</th>\n",
       "      <td>중부서</td>\n",
       "      <td>2</td>\n",
       "      <td>2</td>\n",
       "      <td>3</td>\n",
       "      <td>2</td>\n",
       "      <td>105</td>\n",
       "      <td>65</td>\n",
       "      <td>1,395</td>\n",
       "      <td>477</td>\n",
       "      <td>1,355</td>\n",
       "      <td>1,170</td>\n",
       "    </tr>\n",
       "    <tr>\n",
       "      <th>1</th>\n",
       "      <td>종로서</td>\n",
       "      <td>3</td>\n",
       "      <td>3</td>\n",
       "      <td>6</td>\n",
       "      <td>5</td>\n",
       "      <td>115</td>\n",
       "      <td>98</td>\n",
       "      <td>1,070</td>\n",
       "      <td>413</td>\n",
       "      <td>1,278</td>\n",
       "      <td>1,070</td>\n",
       "    </tr>\n",
       "    <tr>\n",
       "      <th>2</th>\n",
       "      <td>남대문서</td>\n",
       "      <td>1</td>\n",
       "      <td>0</td>\n",
       "      <td>6</td>\n",
       "      <td>4</td>\n",
       "      <td>65</td>\n",
       "      <td>46</td>\n",
       "      <td>1,153</td>\n",
       "      <td>382</td>\n",
       "      <td>869</td>\n",
       "      <td>794</td>\n",
       "    </tr>\n",
       "    <tr>\n",
       "      <th>3</th>\n",
       "      <td>서대문서</td>\n",
       "      <td>2</td>\n",
       "      <td>2</td>\n",
       "      <td>5</td>\n",
       "      <td>4</td>\n",
       "      <td>154</td>\n",
       "      <td>124</td>\n",
       "      <td>1,812</td>\n",
       "      <td>738</td>\n",
       "      <td>2,056</td>\n",
       "      <td>1,711</td>\n",
       "    </tr>\n",
       "    <tr>\n",
       "      <th>4</th>\n",
       "      <td>혜화서</td>\n",
       "      <td>3</td>\n",
       "      <td>2</td>\n",
       "      <td>5</td>\n",
       "      <td>4</td>\n",
       "      <td>96</td>\n",
       "      <td>63</td>\n",
       "      <td>1,114</td>\n",
       "      <td>424</td>\n",
       "      <td>1,015</td>\n",
       "      <td>861</td>\n",
       "    </tr>\n",
       "  </tbody>\n",
       "</table>\n",
       "</div>"
      ],
      "text/plain": [
       "    관서명  살인(발생)  살인(검거)  강도(발생)  강도(검거)  강간(발생)  강간(검거) 절도(발생) 절도(검거) 폭력(발생)  \\\n",
       "0   중부서       2       2       3       2     105      65  1,395    477  1,355   \n",
       "1   종로서       3       3       6       5     115      98  1,070    413  1,278   \n",
       "2  남대문서       1       0       6       4      65      46  1,153    382    869   \n",
       "3  서대문서       2       2       5       4     154     124  1,812    738  2,056   \n",
       "4   혜화서       3       2       5       4      96      63  1,114    424  1,015   \n",
       "\n",
       "  폭력(검거)  \n",
       "0  1,170  \n",
       "1  1,070  \n",
       "2    794  \n",
       "3  1,711  \n",
       "4    861  "
      ]
     },
     "execution_count": 87,
     "metadata": {},
     "output_type": "execute_result"
    }
   ],
   "source": [
    "frame.head()"
   ]
  },
  {
   "cell_type": "code",
   "execution_count": 61,
   "metadata": {},
   "outputs": [
    {
     "data": {
      "text/html": [
       "<div>\n",
       "<style scoped>\n",
       "    .dataframe tbody tr th:only-of-type {\n",
       "        vertical-align: middle;\n",
       "    }\n",
       "\n",
       "    .dataframe tbody tr th {\n",
       "        vertical-align: top;\n",
       "    }\n",
       "\n",
       "    .dataframe thead th {\n",
       "        text-align: right;\n",
       "    }\n",
       "</style>\n",
       "<table border=\"1\" class=\"dataframe\">\n",
       "  <thead>\n",
       "    <tr style=\"text-align: right;\">\n",
       "      <th></th>\n",
       "      <th>관서명</th>\n",
       "      <th>살인(발생)</th>\n",
       "      <th>살인(검거)</th>\n",
       "      <th>강도(발생)</th>\n",
       "      <th>강도(검거)</th>\n",
       "      <th>강간(발생)</th>\n",
       "      <th>강간(검거)</th>\n",
       "      <th>절도(발생)</th>\n",
       "      <th>절도(검거)</th>\n",
       "      <th>폭력(발생)</th>\n",
       "      <th>폭력(검거)</th>\n",
       "    </tr>\n",
       "  </thead>\n",
       "  <tbody>\n",
       "    <tr>\n",
       "      <th>26</th>\n",
       "      <td>노원서</td>\n",
       "      <td>10</td>\n",
       "      <td>10</td>\n",
       "      <td>7</td>\n",
       "      <td>7</td>\n",
       "      <td>197</td>\n",
       "      <td>121</td>\n",
       "      <td>2,193</td>\n",
       "      <td>801</td>\n",
       "      <td>2,723</td>\n",
       "      <td>2,329</td>\n",
       "    </tr>\n",
       "    <tr>\n",
       "      <th>27</th>\n",
       "      <td>방배서</td>\n",
       "      <td>1</td>\n",
       "      <td>2</td>\n",
       "      <td>1</td>\n",
       "      <td>1</td>\n",
       "      <td>59</td>\n",
       "      <td>56</td>\n",
       "      <td>653</td>\n",
       "      <td>186</td>\n",
       "      <td>547</td>\n",
       "      <td>491</td>\n",
       "    </tr>\n",
       "    <tr>\n",
       "      <th>28</th>\n",
       "      <td>은평서</td>\n",
       "      <td>1</td>\n",
       "      <td>1</td>\n",
       "      <td>7</td>\n",
       "      <td>5</td>\n",
       "      <td>96</td>\n",
       "      <td>82</td>\n",
       "      <td>1,095</td>\n",
       "      <td>418</td>\n",
       "      <td>1,461</td>\n",
       "      <td>1,268</td>\n",
       "    </tr>\n",
       "    <tr>\n",
       "      <th>29</th>\n",
       "      <td>도봉서</td>\n",
       "      <td>3</td>\n",
       "      <td>3</td>\n",
       "      <td>9</td>\n",
       "      <td>10</td>\n",
       "      <td>102</td>\n",
       "      <td>106</td>\n",
       "      <td>1,063</td>\n",
       "      <td>478</td>\n",
       "      <td>1,487</td>\n",
       "      <td>1,303</td>\n",
       "    </tr>\n",
       "    <tr>\n",
       "      <th>30</th>\n",
       "      <td>수서서</td>\n",
       "      <td>10</td>\n",
       "      <td>7</td>\n",
       "      <td>6</td>\n",
       "      <td>6</td>\n",
       "      <td>149</td>\n",
       "      <td>124</td>\n",
       "      <td>1,439</td>\n",
       "      <td>666</td>\n",
       "      <td>1,819</td>\n",
       "      <td>1,559</td>\n",
       "    </tr>\n",
       "  </tbody>\n",
       "</table>\n",
       "</div>"
      ],
      "text/plain": [
       "    관서명  살인(발생)  살인(검거)  강도(발생)  강도(검거)  강간(발생)  강간(검거) 절도(발생) 절도(검거) 폭력(발생)  \\\n",
       "26  노원서      10      10       7       7     197     121  2,193    801  2,723   \n",
       "27  방배서       1       2       1       1      59      56    653    186    547   \n",
       "28  은평서       1       1       7       5      96      82  1,095    418  1,461   \n",
       "29  도봉서       3       3       9      10     102     106  1,063    478  1,487   \n",
       "30  수서서      10       7       6       6     149     124  1,439    666  1,819   \n",
       "\n",
       "   폭력(검거)  \n",
       "26  2,329  \n",
       "27    491  \n",
       "28  1,268  \n",
       "29  1,303  \n",
       "30  1,559  "
      ]
     },
     "execution_count": 61,
     "metadata": {},
     "output_type": "execute_result"
    }
   ],
   "source": [
    "frame.tail()"
   ]
  },
  {
   "cell_type": "code",
   "execution_count": 62,
   "metadata": {},
   "outputs": [
    {
     "data": {
      "text/html": [
       "<div>\n",
       "<style scoped>\n",
       "    .dataframe tbody tr th:only-of-type {\n",
       "        vertical-align: middle;\n",
       "    }\n",
       "\n",
       "    .dataframe tbody tr th {\n",
       "        vertical-align: top;\n",
       "    }\n",
       "\n",
       "    .dataframe thead th {\n",
       "        text-align: right;\n",
       "    }\n",
       "</style>\n",
       "<table border=\"1\" class=\"dataframe\">\n",
       "  <thead>\n",
       "    <tr style=\"text-align: right;\">\n",
       "      <th></th>\n",
       "      <th>살인(발생)</th>\n",
       "      <th>살인(검거)</th>\n",
       "      <th>강도(발생)</th>\n",
       "      <th>강도(검거)</th>\n",
       "      <th>강간(발생)</th>\n",
       "      <th>강간(검거)</th>\n",
       "    </tr>\n",
       "  </thead>\n",
       "  <tbody>\n",
       "    <tr>\n",
       "      <th>count</th>\n",
       "      <td>31.000000</td>\n",
       "      <td>31.000000</td>\n",
       "      <td>31.000000</td>\n",
       "      <td>31.000000</td>\n",
       "      <td>31.000000</td>\n",
       "      <td>31.000000</td>\n",
       "    </tr>\n",
       "    <tr>\n",
       "      <th>mean</th>\n",
       "      <td>5.258065</td>\n",
       "      <td>4.935484</td>\n",
       "      <td>8.903226</td>\n",
       "      <td>8.161290</td>\n",
       "      <td>175.774194</td>\n",
       "      <td>131.967742</td>\n",
       "    </tr>\n",
       "    <tr>\n",
       "      <th>std</th>\n",
       "      <td>3.605253</td>\n",
       "      <td>3.203493</td>\n",
       "      <td>4.935280</td>\n",
       "      <td>5.710206</td>\n",
       "      <td>85.580259</td>\n",
       "      <td>56.590037</td>\n",
       "    </tr>\n",
       "    <tr>\n",
       "      <th>min</th>\n",
       "      <td>1.000000</td>\n",
       "      <td>0.000000</td>\n",
       "      <td>1.000000</td>\n",
       "      <td>1.000000</td>\n",
       "      <td>59.000000</td>\n",
       "      <td>46.000000</td>\n",
       "    </tr>\n",
       "    <tr>\n",
       "      <th>25%</th>\n",
       "      <td>3.000000</td>\n",
       "      <td>2.500000</td>\n",
       "      <td>6.000000</td>\n",
       "      <td>4.000000</td>\n",
       "      <td>103.500000</td>\n",
       "      <td>90.000000</td>\n",
       "    </tr>\n",
       "    <tr>\n",
       "      <th>50%</th>\n",
       "      <td>4.000000</td>\n",
       "      <td>4.000000</td>\n",
       "      <td>8.000000</td>\n",
       "      <td>7.000000</td>\n",
       "      <td>154.000000</td>\n",
       "      <td>124.000000</td>\n",
       "    </tr>\n",
       "    <tr>\n",
       "      <th>75%</th>\n",
       "      <td>7.500000</td>\n",
       "      <td>7.500000</td>\n",
       "      <td>13.000000</td>\n",
       "      <td>11.500000</td>\n",
       "      <td>251.000000</td>\n",
       "      <td>175.500000</td>\n",
       "    </tr>\n",
       "    <tr>\n",
       "      <th>max</th>\n",
       "      <td>14.000000</td>\n",
       "      <td>12.000000</td>\n",
       "      <td>22.000000</td>\n",
       "      <td>26.000000</td>\n",
       "      <td>334.000000</td>\n",
       "      <td>247.000000</td>\n",
       "    </tr>\n",
       "  </tbody>\n",
       "</table>\n",
       "</div>"
      ],
      "text/plain": [
       "          살인(발생)     살인(검거)     강도(발생)     강도(검거)      강간(발생)      강간(검거)\n",
       "count  31.000000  31.000000  31.000000  31.000000   31.000000   31.000000\n",
       "mean    5.258065   4.935484   8.903226   8.161290  175.774194  131.967742\n",
       "std     3.605253   3.203493   4.935280   5.710206   85.580259   56.590037\n",
       "min     1.000000   0.000000   1.000000   1.000000   59.000000   46.000000\n",
       "25%     3.000000   2.500000   6.000000   4.000000  103.500000   90.000000\n",
       "50%     4.000000   4.000000   8.000000   7.000000  154.000000  124.000000\n",
       "75%     7.500000   7.500000  13.000000  11.500000  251.000000  175.500000\n",
       "max    14.000000  12.000000  22.000000  26.000000  334.000000  247.000000"
      ]
     },
     "execution_count": 62,
     "metadata": {},
     "output_type": "execute_result"
    }
   ],
   "source": [
    "frame.describe()"
   ]
  },
  {
   "cell_type": "code",
   "execution_count": 64,
   "metadata": {},
   "outputs": [
    {
     "name": "stdout",
     "output_type": "stream",
     "text": [
      "<class 'pandas.core.frame.DataFrame'>\n",
      "RangeIndex: 31 entries, 0 to 30\n",
      "Data columns (total 11 columns):\n",
      " #   Column  Non-Null Count  Dtype \n",
      "---  ------  --------------  ----- \n",
      " 0   관서명     31 non-null     object\n",
      " 1   살인(발생)  31 non-null     int64 \n",
      " 2   살인(검거)  31 non-null     int64 \n",
      " 3   강도(발생)  31 non-null     int64 \n",
      " 4   강도(검거)  31 non-null     int64 \n",
      " 5   강간(발생)  31 non-null     int64 \n",
      " 6   강간(검거)  31 non-null     int64 \n",
      " 7   절도(발생)  31 non-null     object\n",
      " 8   절도(검거)  31 non-null     object\n",
      " 9   폭력(발생)  31 non-null     object\n",
      " 10  폭력(검거)  31 non-null     object\n",
      "dtypes: int64(6), object(5)\n",
      "memory usage: 2.8+ KB\n"
     ]
    }
   ],
   "source": [
    "frame.info()"
   ]
  },
  {
   "cell_type": "code",
   "execution_count": 66,
   "metadata": {},
   "outputs": [
    {
     "data": {
      "text/plain": [
       "(31, 11)"
      ]
     },
     "execution_count": 66,
     "metadata": {},
     "output_type": "execute_result"
    }
   ],
   "source": [
    "frame.shape"
   ]
  },
  {
   "cell_type": "code",
   "execution_count": 68,
   "metadata": {},
   "outputs": [],
   "source": [
    "#범죄 발생합\n",
    "frame['범죄(발생)']=1"
   ]
  },
  {
   "cell_type": "code",
   "execution_count": 69,
   "metadata": {},
   "outputs": [],
   "source": [
    "#범죄 검거 합\n",
    "frame['범죄(검거)']=1"
   ]
  },
  {
   "cell_type": "code",
   "execution_count": 70,
   "metadata": {},
   "outputs": [
    {
     "data": {
      "text/html": [
       "<div>\n",
       "<style scoped>\n",
       "    .dataframe tbody tr th:only-of-type {\n",
       "        vertical-align: middle;\n",
       "    }\n",
       "\n",
       "    .dataframe tbody tr th {\n",
       "        vertical-align: top;\n",
       "    }\n",
       "\n",
       "    .dataframe thead th {\n",
       "        text-align: right;\n",
       "    }\n",
       "</style>\n",
       "<table border=\"1\" class=\"dataframe\">\n",
       "  <thead>\n",
       "    <tr style=\"text-align: right;\">\n",
       "      <th></th>\n",
       "      <th>관서명</th>\n",
       "      <th>살인(발생)</th>\n",
       "      <th>살인(검거)</th>\n",
       "      <th>강도(발생)</th>\n",
       "      <th>강도(검거)</th>\n",
       "      <th>강간(발생)</th>\n",
       "      <th>강간(검거)</th>\n",
       "      <th>절도(발생)</th>\n",
       "      <th>절도(검거)</th>\n",
       "      <th>폭력(발생)</th>\n",
       "      <th>폭력(검거)</th>\n",
       "      <th>범죄(발생)</th>\n",
       "      <th>범죄(검거)</th>\n",
       "    </tr>\n",
       "  </thead>\n",
       "  <tbody>\n",
       "    <tr>\n",
       "      <th>0</th>\n",
       "      <td>중부서</td>\n",
       "      <td>2</td>\n",
       "      <td>2</td>\n",
       "      <td>3</td>\n",
       "      <td>2</td>\n",
       "      <td>105</td>\n",
       "      <td>65</td>\n",
       "      <td>1,395</td>\n",
       "      <td>477</td>\n",
       "      <td>1,355</td>\n",
       "      <td>1,170</td>\n",
       "      <td>1</td>\n",
       "      <td>1</td>\n",
       "    </tr>\n",
       "    <tr>\n",
       "      <th>1</th>\n",
       "      <td>종로서</td>\n",
       "      <td>3</td>\n",
       "      <td>3</td>\n",
       "      <td>6</td>\n",
       "      <td>5</td>\n",
       "      <td>115</td>\n",
       "      <td>98</td>\n",
       "      <td>1,070</td>\n",
       "      <td>413</td>\n",
       "      <td>1,278</td>\n",
       "      <td>1,070</td>\n",
       "      <td>1</td>\n",
       "      <td>1</td>\n",
       "    </tr>\n",
       "    <tr>\n",
       "      <th>2</th>\n",
       "      <td>남대문서</td>\n",
       "      <td>1</td>\n",
       "      <td>0</td>\n",
       "      <td>6</td>\n",
       "      <td>4</td>\n",
       "      <td>65</td>\n",
       "      <td>46</td>\n",
       "      <td>1,153</td>\n",
       "      <td>382</td>\n",
       "      <td>869</td>\n",
       "      <td>794</td>\n",
       "      <td>1</td>\n",
       "      <td>1</td>\n",
       "    </tr>\n",
       "    <tr>\n",
       "      <th>3</th>\n",
       "      <td>서대문서</td>\n",
       "      <td>2</td>\n",
       "      <td>2</td>\n",
       "      <td>5</td>\n",
       "      <td>4</td>\n",
       "      <td>154</td>\n",
       "      <td>124</td>\n",
       "      <td>1,812</td>\n",
       "      <td>738</td>\n",
       "      <td>2,056</td>\n",
       "      <td>1,711</td>\n",
       "      <td>1</td>\n",
       "      <td>1</td>\n",
       "    </tr>\n",
       "    <tr>\n",
       "      <th>4</th>\n",
       "      <td>혜화서</td>\n",
       "      <td>3</td>\n",
       "      <td>2</td>\n",
       "      <td>5</td>\n",
       "      <td>4</td>\n",
       "      <td>96</td>\n",
       "      <td>63</td>\n",
       "      <td>1,114</td>\n",
       "      <td>424</td>\n",
       "      <td>1,015</td>\n",
       "      <td>861</td>\n",
       "      <td>1</td>\n",
       "      <td>1</td>\n",
       "    </tr>\n",
       "  </tbody>\n",
       "</table>\n",
       "</div>"
      ],
      "text/plain": [
       "    관서명  살인(발생)  살인(검거)  강도(발생)  강도(검거)  강간(발생)  강간(검거) 절도(발생) 절도(검거) 폭력(발생)  \\\n",
       "0   중부서       2       2       3       2     105      65  1,395    477  1,355   \n",
       "1   종로서       3       3       6       5     115      98  1,070    413  1,278   \n",
       "2  남대문서       1       0       6       4      65      46  1,153    382    869   \n",
       "3  서대문서       2       2       5       4     154     124  1,812    738  2,056   \n",
       "4   혜화서       3       2       5       4      96      63  1,114    424  1,015   \n",
       "\n",
       "  폭력(검거)  범죄(발생)  범죄(검거)  \n",
       "0  1,170       1       1  \n",
       "1  1,070       1       1  \n",
       "2    794       1       1  \n",
       "3  1,711       1       1  \n",
       "4    861       1       1  "
      ]
     },
     "execution_count": 70,
     "metadata": {},
     "output_type": "execute_result"
    }
   ],
   "source": [
    "frame.head()"
   ]
  },
  {
   "cell_type": "code",
   "execution_count": 111,
   "metadata": {},
   "outputs": [
    {
     "data": {
      "text/html": [
       "<div>\n",
       "<style scoped>\n",
       "    .dataframe tbody tr th:only-of-type {\n",
       "        vertical-align: middle;\n",
       "    }\n",
       "\n",
       "    .dataframe tbody tr th {\n",
       "        vertical-align: top;\n",
       "    }\n",
       "\n",
       "    .dataframe thead th {\n",
       "        text-align: right;\n",
       "    }\n",
       "</style>\n",
       "<table border=\"1\" class=\"dataframe\">\n",
       "  <thead>\n",
       "    <tr style=\"text-align: right;\">\n",
       "      <th></th>\n",
       "      <th>관서명</th>\n",
       "      <th>살인(발생)</th>\n",
       "      <th>살인(검거)</th>\n",
       "      <th>강도(발생)</th>\n",
       "      <th>강도(검거)</th>\n",
       "      <th>강간(발생)</th>\n",
       "      <th>강간(검거)</th>\n",
       "      <th>절도(발생)</th>\n",
       "      <th>절도(검거)</th>\n",
       "      <th>폭력(발생)</th>\n",
       "      <th>폭력(검거)</th>\n",
       "      <th>범죄(발생)</th>\n",
       "      <th>구별</th>\n",
       "      <th>범죄(검거)</th>\n",
       "    </tr>\n",
       "  </thead>\n",
       "  <tbody>\n",
       "    <tr>\n",
       "      <th>0</th>\n",
       "      <td>중부서</td>\n",
       "      <td>2</td>\n",
       "      <td>2</td>\n",
       "      <td>3</td>\n",
       "      <td>2</td>\n",
       "      <td>105</td>\n",
       "      <td>65</td>\n",
       "      <td>1395</td>\n",
       "      <td>477</td>\n",
       "      <td>1355</td>\n",
       "      <td>1170</td>\n",
       "      <td>2860</td>\n",
       "      <td>중구</td>\n",
       "      <td>1716</td>\n",
       "    </tr>\n",
       "    <tr>\n",
       "      <th>1</th>\n",
       "      <td>종로서</td>\n",
       "      <td>3</td>\n",
       "      <td>3</td>\n",
       "      <td>6</td>\n",
       "      <td>5</td>\n",
       "      <td>115</td>\n",
       "      <td>98</td>\n",
       "      <td>1070</td>\n",
       "      <td>413</td>\n",
       "      <td>1278</td>\n",
       "      <td>1070</td>\n",
       "      <td>2472</td>\n",
       "      <td>종로구</td>\n",
       "      <td>1589</td>\n",
       "    </tr>\n",
       "    <tr>\n",
       "      <th>2</th>\n",
       "      <td>남대문서</td>\n",
       "      <td>1</td>\n",
       "      <td>0</td>\n",
       "      <td>6</td>\n",
       "      <td>4</td>\n",
       "      <td>65</td>\n",
       "      <td>46</td>\n",
       "      <td>1153</td>\n",
       "      <td>382</td>\n",
       "      <td>869</td>\n",
       "      <td>794</td>\n",
       "      <td>2094</td>\n",
       "      <td>중구</td>\n",
       "      <td>1226</td>\n",
       "    </tr>\n",
       "    <tr>\n",
       "      <th>3</th>\n",
       "      <td>서대문서</td>\n",
       "      <td>2</td>\n",
       "      <td>2</td>\n",
       "      <td>5</td>\n",
       "      <td>4</td>\n",
       "      <td>154</td>\n",
       "      <td>124</td>\n",
       "      <td>1812</td>\n",
       "      <td>738</td>\n",
       "      <td>2056</td>\n",
       "      <td>1711</td>\n",
       "      <td>4029</td>\n",
       "      <td>서대문구</td>\n",
       "      <td>2579</td>\n",
       "    </tr>\n",
       "    <tr>\n",
       "      <th>4</th>\n",
       "      <td>혜화서</td>\n",
       "      <td>3</td>\n",
       "      <td>2</td>\n",
       "      <td>5</td>\n",
       "      <td>4</td>\n",
       "      <td>96</td>\n",
       "      <td>63</td>\n",
       "      <td>1114</td>\n",
       "      <td>424</td>\n",
       "      <td>1015</td>\n",
       "      <td>861</td>\n",
       "      <td>2233</td>\n",
       "      <td>종로구</td>\n",
       "      <td>1354</td>\n",
       "    </tr>\n",
       "  </tbody>\n",
       "</table>\n",
       "</div>"
      ],
      "text/plain": [
       "    관서명  살인(발생)  살인(검거)  강도(발생)  강도(검거)  강간(발생)  강간(검거)  절도(발생)  절도(검거)  \\\n",
       "0   중부서       2       2       3       2     105      65    1395     477   \n",
       "1   종로서       3       3       6       5     115      98    1070     413   \n",
       "2  남대문서       1       0       6       4      65      46    1153     382   \n",
       "3  서대문서       2       2       5       4     154     124    1812     738   \n",
       "4   혜화서       3       2       5       4      96      63    1114     424   \n",
       "\n",
       "   폭력(발생)  폭력(검거)  범죄(발생)    구별  범죄(검거)  \n",
       "0    1355    1170    2860    중구    1716  \n",
       "1    1278    1070    2472   종로구    1589  \n",
       "2     869     794    2094    중구    1226  \n",
       "3    2056    1711    4029  서대문구    2579  \n",
       "4    1015     861    2233   종로구    1354  "
      ]
     },
     "execution_count": 111,
     "metadata": {},
     "output_type": "execute_result"
    }
   ],
   "source": [
    "frame['범죄(발생)']=frame['살인(발생)']+frame['강도(발생)']+frame['강간(발생)']+frame['절도(발생)']+frame['폭력(발생)']\n",
    "\n",
    "frame['범죄(검거)']=frame['살인(검거)']+frame['강도(검거)']+frame['강간(검거)']+frame['절도(검거)']+frame['폭력(검거)']\n",
    "frame.head()"
   ]
  },
  {
   "cell_type": "code",
   "execution_count": 103,
   "metadata": {},
   "outputs": [
    {
     "name": "stdout",
     "output_type": "stream",
     "text": [
      "[[ 477 1355 1170 2860]\n",
      " [ 413 1278 1070 2472]\n",
      " [ 382  869  794 2094]\n",
      " [ 738 2056 1711 4029]\n",
      " [ 424 1015  861 2233]\n",
      " [ 587 2050 1704 3820]\n",
      " [ 409 1194 1015 2237]\n",
      " [ 814 2548 2227 4720]\n",
      " [ 813 2983 2519 5854]\n",
      " [ 978 3572 2961 6867]\n",
      " [ 597 1612 1395 3358]\n",
      " [ 661 1910 1587 4074]\n",
      " [1277 2625 2180 5909]\n",
      " [ 293 1192 1038 2085]\n",
      " [ 618 2649 2348 4257]\n",
      " [ 888 2054 1776 3781]\n",
      " [ 829 2847 2407 5193]\n",
      " [ 984 2465 2146 5194]\n",
      " [ 827 3298 2642 6345]\n",
      " [1260 3207 2718 5585]\n",
      " [ 789 2712 2248 5244]\n",
      " [ 332 1015  840 1917]\n",
      " [ 889 3007 2432 5646]\n",
      " [ 905 1852 1607 4183]\n",
      " [ 672 2509 2030 4528]\n",
      " [1129 3295 2786 6778]\n",
      " [ 801 2723 2329 5130]\n",
      " [ 186  547  491 1261]\n",
      " [ 418 1461 1268 2660]\n",
      " [ 478 1487 1303 2664]\n",
      " [ 666 1819 1559 3423]]\n"
     ]
    },
    {
     "data": {
      "text/html": [
       "<div>\n",
       "<style scoped>\n",
       "    .dataframe tbody tr th:only-of-type {\n",
       "        vertical-align: middle;\n",
       "    }\n",
       "\n",
       "    .dataframe tbody tr th {\n",
       "        vertical-align: top;\n",
       "    }\n",
       "\n",
       "    .dataframe thead th {\n",
       "        text-align: right;\n",
       "    }\n",
       "</style>\n",
       "<table border=\"1\" class=\"dataframe\">\n",
       "  <thead>\n",
       "    <tr style=\"text-align: right;\">\n",
       "      <th></th>\n",
       "      <th>관서명</th>\n",
       "      <th>살인(발생)</th>\n",
       "      <th>살인(검거)</th>\n",
       "      <th>강도(발생)</th>\n",
       "      <th>강도(검거)</th>\n",
       "      <th>강간(발생)</th>\n",
       "      <th>강간(검거)</th>\n",
       "      <th>절도(발생)</th>\n",
       "      <th>절도(검거)</th>\n",
       "      <th>폭력(발생)</th>\n",
       "      <th>폭력(검거)</th>\n",
       "      <th>범죄(발생)</th>\n",
       "    </tr>\n",
       "  </thead>\n",
       "  <tbody>\n",
       "    <tr>\n",
       "      <th>0</th>\n",
       "      <td>중부서</td>\n",
       "      <td>2</td>\n",
       "      <td>2</td>\n",
       "      <td>3</td>\n",
       "      <td>2</td>\n",
       "      <td>105</td>\n",
       "      <td>65</td>\n",
       "      <td>1395</td>\n",
       "      <td>477</td>\n",
       "      <td>1355</td>\n",
       "      <td>1170</td>\n",
       "      <td>2860</td>\n",
       "    </tr>\n",
       "    <tr>\n",
       "      <th>1</th>\n",
       "      <td>종로서</td>\n",
       "      <td>3</td>\n",
       "      <td>3</td>\n",
       "      <td>6</td>\n",
       "      <td>5</td>\n",
       "      <td>115</td>\n",
       "      <td>98</td>\n",
       "      <td>1070</td>\n",
       "      <td>413</td>\n",
       "      <td>1278</td>\n",
       "      <td>1070</td>\n",
       "      <td>2472</td>\n",
       "    </tr>\n",
       "    <tr>\n",
       "      <th>2</th>\n",
       "      <td>남대문서</td>\n",
       "      <td>1</td>\n",
       "      <td>0</td>\n",
       "      <td>6</td>\n",
       "      <td>4</td>\n",
       "      <td>65</td>\n",
       "      <td>46</td>\n",
       "      <td>1153</td>\n",
       "      <td>382</td>\n",
       "      <td>869</td>\n",
       "      <td>794</td>\n",
       "      <td>2094</td>\n",
       "    </tr>\n",
       "    <tr>\n",
       "      <th>3</th>\n",
       "      <td>서대문서</td>\n",
       "      <td>2</td>\n",
       "      <td>2</td>\n",
       "      <td>5</td>\n",
       "      <td>4</td>\n",
       "      <td>154</td>\n",
       "      <td>124</td>\n",
       "      <td>1812</td>\n",
       "      <td>738</td>\n",
       "      <td>2056</td>\n",
       "      <td>1711</td>\n",
       "      <td>4029</td>\n",
       "    </tr>\n",
       "    <tr>\n",
       "      <th>4</th>\n",
       "      <td>혜화서</td>\n",
       "      <td>3</td>\n",
       "      <td>2</td>\n",
       "      <td>5</td>\n",
       "      <td>4</td>\n",
       "      <td>96</td>\n",
       "      <td>63</td>\n",
       "      <td>1114</td>\n",
       "      <td>424</td>\n",
       "      <td>1015</td>\n",
       "      <td>861</td>\n",
       "      <td>2233</td>\n",
       "    </tr>\n",
       "  </tbody>\n",
       "</table>\n",
       "</div>"
      ],
      "text/plain": [
       "    관서명  살인(발생)  살인(검거)  강도(발생)  강도(검거)  강간(발생)  강간(검거)  절도(발생)  절도(검거)  \\\n",
       "0   중부서       2       2       3       2     105      65    1395     477   \n",
       "1   종로서       3       3       6       5     115      98    1070     413   \n",
       "2  남대문서       1       0       6       4      65      46    1153     382   \n",
       "3  서대문서       2       2       5       4     154     124    1812     738   \n",
       "4   혜화서       3       2       5       4      96      63    1114     424   \n",
       "\n",
       "   폭력(발생)  폭력(검거)  범죄(발생)  \n",
       "0    1355    1170    2860  \n",
       "1    1278    1070    2472  \n",
       "2     869     794    2094  \n",
       "3    2056    1711    4029  \n",
       "4    1015     861    2233  "
      ]
     },
     "execution_count": 103,
     "metadata": {},
     "output_type": "execute_result"
    }
   ],
   "source": [
    "for tuple in frame.values:\n",
    "    for ele in tuple[-1:-4:-1]:\n",
    "        str(ele).replace(',','')\n",
    "textData=frame[frame.columns[-4:]].values\n",
    "print(textData)\n",
    "\n",
    "for idx,row in enumerate(textData):\n",
    "    for idx2,ele in enumerate(row):\n",
    "        textData[idx][idx2]=int(str(ele).replace(',',''))\n",
    "textData\n",
    "frame[frame.columns[-4:]]=textData\n",
    "frame.head()"
   ]
  },
  {
   "cell_type": "code",
   "execution_count": 97,
   "metadata": {},
   "outputs": [
    {
     "data": {
      "text/plain": [
       "array(['중부서', 2, 2, 3, 2, 105, 65, 1395, 477, 1355, 1170], dtype=object)"
      ]
     },
     "execution_count": 97,
     "metadata": {},
     "output_type": "execute_result"
    }
   ],
   "source": [
    "frame.values[0]"
   ]
  },
  {
   "cell_type": "code",
   "execution_count": 112,
   "metadata": {},
   "outputs": [
    {
     "data": {
      "text/html": [
       "<div>\n",
       "<style scoped>\n",
       "    .dataframe tbody tr th:only-of-type {\n",
       "        vertical-align: middle;\n",
       "    }\n",
       "\n",
       "    .dataframe tbody tr th {\n",
       "        vertical-align: top;\n",
       "    }\n",
       "\n",
       "    .dataframe thead th {\n",
       "        text-align: right;\n",
       "    }\n",
       "</style>\n",
       "<table border=\"1\" class=\"dataframe\">\n",
       "  <thead>\n",
       "    <tr style=\"text-align: right;\">\n",
       "      <th></th>\n",
       "      <th>관서명</th>\n",
       "      <th>살인(발생)</th>\n",
       "      <th>살인(검거)</th>\n",
       "      <th>강도(발생)</th>\n",
       "      <th>강도(검거)</th>\n",
       "      <th>강간(발생)</th>\n",
       "      <th>강간(검거)</th>\n",
       "      <th>절도(발생)</th>\n",
       "      <th>절도(검거)</th>\n",
       "      <th>폭력(발생)</th>\n",
       "      <th>폭력(검거)</th>\n",
       "      <th>범죄(발생)</th>\n",
       "      <th>구별</th>\n",
       "      <th>범죄(검거)</th>\n",
       "    </tr>\n",
       "  </thead>\n",
       "  <tbody>\n",
       "    <tr>\n",
       "      <th>30</th>\n",
       "      <td>수서서</td>\n",
       "      <td>10</td>\n",
       "      <td>7</td>\n",
       "      <td>6</td>\n",
       "      <td>6</td>\n",
       "      <td>149</td>\n",
       "      <td>124</td>\n",
       "      <td>1439</td>\n",
       "      <td>666</td>\n",
       "      <td>1819</td>\n",
       "      <td>1559</td>\n",
       "      <td>3423</td>\n",
       "      <td>강남구</td>\n",
       "      <td>2362</td>\n",
       "    </tr>\n",
       "    <tr>\n",
       "      <th>17</th>\n",
       "      <td>강남서</td>\n",
       "      <td>3</td>\n",
       "      <td>3</td>\n",
       "      <td>15</td>\n",
       "      <td>12</td>\n",
       "      <td>300</td>\n",
       "      <td>225</td>\n",
       "      <td>2411</td>\n",
       "      <td>984</td>\n",
       "      <td>2465</td>\n",
       "      <td>2146</td>\n",
       "      <td>5194</td>\n",
       "      <td>강남구</td>\n",
       "      <td>3370</td>\n",
       "    </tr>\n",
       "    <tr>\n",
       "      <th>20</th>\n",
       "      <td>강동서</td>\n",
       "      <td>4</td>\n",
       "      <td>3</td>\n",
       "      <td>6</td>\n",
       "      <td>8</td>\n",
       "      <td>156</td>\n",
       "      <td>123</td>\n",
       "      <td>2366</td>\n",
       "      <td>789</td>\n",
       "      <td>2712</td>\n",
       "      <td>2248</td>\n",
       "      <td>5244</td>\n",
       "      <td>강동구</td>\n",
       "      <td>3171</td>\n",
       "    </tr>\n",
       "    <tr>\n",
       "      <th>14</th>\n",
       "      <td>강북서</td>\n",
       "      <td>7</td>\n",
       "      <td>8</td>\n",
       "      <td>14</td>\n",
       "      <td>13</td>\n",
       "      <td>153</td>\n",
       "      <td>126</td>\n",
       "      <td>1434</td>\n",
       "      <td>618</td>\n",
       "      <td>2649</td>\n",
       "      <td>2348</td>\n",
       "      <td>4257</td>\n",
       "      <td>강북구</td>\n",
       "      <td>3113</td>\n",
       "    </tr>\n",
       "    <tr>\n",
       "      <th>19</th>\n",
       "      <td>강서서</td>\n",
       "      <td>7</td>\n",
       "      <td>8</td>\n",
       "      <td>13</td>\n",
       "      <td>13</td>\n",
       "      <td>262</td>\n",
       "      <td>191</td>\n",
       "      <td>2096</td>\n",
       "      <td>1260</td>\n",
       "      <td>3207</td>\n",
       "      <td>2718</td>\n",
       "      <td>5585</td>\n",
       "      <td>강서구</td>\n",
       "      <td>4190</td>\n",
       "    </tr>\n",
       "  </tbody>\n",
       "</table>\n",
       "</div>"
      ],
      "text/plain": [
       "    관서명  살인(발생)  살인(검거)  강도(발생)  강도(검거)  강간(발생)  강간(검거)  절도(발생)  절도(검거)  \\\n",
       "30  수서서      10       7       6       6     149     124    1439     666   \n",
       "17  강남서       3       3      15      12     300     225    2411     984   \n",
       "20  강동서       4       3       6       8     156     123    2366     789   \n",
       "14  강북서       7       8      14      13     153     126    1434     618   \n",
       "19  강서서       7       8      13      13     262     191    2096    1260   \n",
       "\n",
       "    폭력(발생)  폭력(검거)  범죄(발생)   구별  범죄(검거)  \n",
       "30    1819    1559    3423  강남구    2362  \n",
       "17    2465    2146    5194  강남구    3370  \n",
       "20    2712    2248    5244  강동구    3171  \n",
       "14    2649    2348    4257  강북구    3113  \n",
       "19    3207    2718    5585  강서구    4190  "
      ]
     },
     "execution_count": 112,
     "metadata": {},
     "output_type": "execute_result"
    }
   ],
   "source": [
    "policeToArea={'서대문서': '서대문구', '수서서': '강남구', '강서서': '강서구', '서초서': '서초구',\n",
    "                '서부서': '은평구', '중부서': '중구', '종로서': '종로구', '남대문서': '중구',\n",
    "                '혜화서': '종로구', '용산서': '용산구', '성북서': '성북구', '동대문서': '동대문구',\n",
    "                '마포서': '마포구', '영등포서': '영등포구', '성동서': '성동구', '동작서': '동작구',\n",
    "                '광진서': '광진구', '강북서': '강북구', '금천서': '금천구', '중랑서': '중랑구',\n",
    "                '강남서': '강남구', '관악서': '관악구', '강동서': '강동구', '종암서': '성북구', \n",
    "                '구로서': '구로구', '양천서': '양천구', '송파서': '송파구', '노원서': '노원구', \n",
    "                '방배서': '서초구', '은평서': '은평구', '도봉서': '도봉구'}\n",
    "\n",
    "frame['구별']=frame['관서명'].apply(lambda v:policeToArea.get(v,v))\n",
    "frame.sort_values(by='구별').head()"
   ]
  },
  {
   "cell_type": "code",
   "execution_count": 113,
   "metadata": {},
   "outputs": [
    {
     "data": {
      "text/html": [
       "<div>\n",
       "<style scoped>\n",
       "    .dataframe tbody tr th:only-of-type {\n",
       "        vertical-align: middle;\n",
       "    }\n",
       "\n",
       "    .dataframe tbody tr th {\n",
       "        vertical-align: top;\n",
       "    }\n",
       "\n",
       "    .dataframe thead th {\n",
       "        text-align: right;\n",
       "    }\n",
       "</style>\n",
       "<table border=\"1\" class=\"dataframe\">\n",
       "  <thead>\n",
       "    <tr style=\"text-align: right;\">\n",
       "      <th></th>\n",
       "      <th>강간(검거)</th>\n",
       "      <th>강간(발생)</th>\n",
       "      <th>강도(검거)</th>\n",
       "      <th>강도(발생)</th>\n",
       "      <th>범죄(검거)</th>\n",
       "      <th>범죄(발생)</th>\n",
       "      <th>살인(검거)</th>\n",
       "      <th>살인(발생)</th>\n",
       "      <th>절도(검거)</th>\n",
       "      <th>절도(발생)</th>\n",
       "      <th>폭력(검거)</th>\n",
       "      <th>폭력(발생)</th>\n",
       "    </tr>\n",
       "    <tr>\n",
       "      <th>구별</th>\n",
       "      <th></th>\n",
       "      <th></th>\n",
       "      <th></th>\n",
       "      <th></th>\n",
       "      <th></th>\n",
       "      <th></th>\n",
       "      <th></th>\n",
       "      <th></th>\n",
       "      <th></th>\n",
       "      <th></th>\n",
       "      <th></th>\n",
       "      <th></th>\n",
       "    </tr>\n",
       "  </thead>\n",
       "  <tbody>\n",
       "    <tr>\n",
       "      <th>강남구</th>\n",
       "      <td>349</td>\n",
       "      <td>449</td>\n",
       "      <td>18</td>\n",
       "      <td>21</td>\n",
       "      <td>5732</td>\n",
       "      <td>8617</td>\n",
       "      <td>10</td>\n",
       "      <td>13</td>\n",
       "      <td>1650</td>\n",
       "      <td>3850</td>\n",
       "      <td>3705</td>\n",
       "      <td>4284</td>\n",
       "    </tr>\n",
       "    <tr>\n",
       "      <th>강동구</th>\n",
       "      <td>123</td>\n",
       "      <td>156</td>\n",
       "      <td>8</td>\n",
       "      <td>6</td>\n",
       "      <td>3171</td>\n",
       "      <td>5244</td>\n",
       "      <td>3</td>\n",
       "      <td>4</td>\n",
       "      <td>789</td>\n",
       "      <td>2366</td>\n",
       "      <td>2248</td>\n",
       "      <td>2712</td>\n",
       "    </tr>\n",
       "    <tr>\n",
       "      <th>강북구</th>\n",
       "      <td>126</td>\n",
       "      <td>153</td>\n",
       "      <td>13</td>\n",
       "      <td>14</td>\n",
       "      <td>3113</td>\n",
       "      <td>4257</td>\n",
       "      <td>8</td>\n",
       "      <td>7</td>\n",
       "      <td>618</td>\n",
       "      <td>1434</td>\n",
       "      <td>2348</td>\n",
       "      <td>2649</td>\n",
       "    </tr>\n",
       "    <tr>\n",
       "      <th>강서구</th>\n",
       "      <td>191</td>\n",
       "      <td>262</td>\n",
       "      <td>13</td>\n",
       "      <td>13</td>\n",
       "      <td>4190</td>\n",
       "      <td>5585</td>\n",
       "      <td>8</td>\n",
       "      <td>7</td>\n",
       "      <td>1260</td>\n",
       "      <td>2096</td>\n",
       "      <td>2718</td>\n",
       "      <td>3207</td>\n",
       "    </tr>\n",
       "    <tr>\n",
       "      <th>관악구</th>\n",
       "      <td>221</td>\n",
       "      <td>320</td>\n",
       "      <td>14</td>\n",
       "      <td>12</td>\n",
       "      <td>3712</td>\n",
       "      <td>6345</td>\n",
       "      <td>8</td>\n",
       "      <td>9</td>\n",
       "      <td>827</td>\n",
       "      <td>2706</td>\n",
       "      <td>2642</td>\n",
       "      <td>3298</td>\n",
       "    </tr>\n",
       "  </tbody>\n",
       "</table>\n",
       "</div>"
      ],
      "text/plain": [
       "     강간(검거)  강간(발생)  강도(검거)  강도(발생)  범죄(검거)  범죄(발생)  살인(검거)  살인(발생)  절도(검거)  \\\n",
       "구별                                                                            \n",
       "강남구     349     449      18      21    5732    8617      10      13    1650   \n",
       "강동구     123     156       8       6    3171    5244       3       4     789   \n",
       "강북구     126     153      13      14    3113    4257       8       7     618   \n",
       "강서구     191     262      13      13    4190    5585       8       7    1260   \n",
       "관악구     221     320      14      12    3712    6345       8       9     827   \n",
       "\n",
       "     절도(발생)  폭력(검거)  폭력(발생)  \n",
       "구별                           \n",
       "강남구    3850    3705    4284  \n",
       "강동구    2366    2248    2712  \n",
       "강북구    1434    2348    2649  \n",
       "강서구    2096    2718    3207  \n",
       "관악구    2706    2642    3298  "
      ]
     },
     "execution_count": 113,
     "metadata": {},
     "output_type": "execute_result"
    }
   ],
   "source": [
    "frame_by_gu=pd.pivot_table(frame,index='구별',aggfunc=np.sum)\n",
    "frame_by_gu.head()"
   ]
  },
  {
   "cell_type": "code",
   "execution_count": 115,
   "metadata": {},
   "outputs": [
    {
     "ename": "KeyError",
     "evalue": "'강간(검거)'",
     "output_type": "error",
     "traceback": [
      "\u001b[1;31m---------------------------------------------------------------------------\u001b[0m",
      "\u001b[1;31mKeyError\u001b[0m                                  Traceback (most recent call last)",
      "\u001b[1;32mC:\\anaconda3\\lib\\site-packages\\pandas\\core\\indexes\\base.py\u001b[0m in \u001b[0;36mget_loc\u001b[1;34m(self, key, method, tolerance)\u001b[0m\n\u001b[0;32m   2645\u001b[0m             \u001b[1;32mtry\u001b[0m\u001b[1;33m:\u001b[0m\u001b[1;33m\u001b[0m\u001b[1;33m\u001b[0m\u001b[0m\n\u001b[1;32m-> 2646\u001b[1;33m                 \u001b[1;32mreturn\u001b[0m \u001b[0mself\u001b[0m\u001b[1;33m.\u001b[0m\u001b[0m_engine\u001b[0m\u001b[1;33m.\u001b[0m\u001b[0mget_loc\u001b[0m\u001b[1;33m(\u001b[0m\u001b[0mkey\u001b[0m\u001b[1;33m)\u001b[0m\u001b[1;33m\u001b[0m\u001b[1;33m\u001b[0m\u001b[0m\n\u001b[0m\u001b[0;32m   2647\u001b[0m             \u001b[1;32mexcept\u001b[0m \u001b[0mKeyError\u001b[0m\u001b[1;33m:\u001b[0m\u001b[1;33m\u001b[0m\u001b[1;33m\u001b[0m\u001b[0m\n",
      "\u001b[1;32mpandas\\_libs\\index.pyx\u001b[0m in \u001b[0;36mpandas._libs.index.IndexEngine.get_loc\u001b[1;34m()\u001b[0m\n",
      "\u001b[1;32mpandas\\_libs\\index.pyx\u001b[0m in \u001b[0;36mpandas._libs.index.IndexEngine.get_loc\u001b[1;34m()\u001b[0m\n",
      "\u001b[1;32mpandas\\_libs\\hashtable_class_helper.pxi\u001b[0m in \u001b[0;36mpandas._libs.hashtable.PyObjectHashTable.get_item\u001b[1;34m()\u001b[0m\n",
      "\u001b[1;32mpandas\\_libs\\hashtable_class_helper.pxi\u001b[0m in \u001b[0;36mpandas._libs.hashtable.PyObjectHashTable.get_item\u001b[1;34m()\u001b[0m\n",
      "\u001b[1;31mKeyError\u001b[0m: '강간(검거)'",
      "\nDuring handling of the above exception, another exception occurred:\n",
      "\u001b[1;31mKeyError\u001b[0m                                  Traceback (most recent call last)",
      "\u001b[1;32m<ipython-input-115-bda9d20f9631>\u001b[0m in \u001b[0;36m<module>\u001b[1;34m\u001b[0m\n\u001b[1;32m----> 1\u001b[1;33m \u001b[0mframe_by_gu\u001b[0m\u001b[1;33m[\u001b[0m\u001b[1;34m'강간검거율'\u001b[0m\u001b[1;33m]\u001b[0m \u001b[1;33m=\u001b[0m \u001b[0mframe_by_gu\u001b[0m\u001b[1;33m[\u001b[0m\u001b[1;34m'강간(검거)'\u001b[0m\u001b[1;33m]\u001b[0m\u001b[1;33m/\u001b[0m\u001b[0mframe_by_gu\u001b[0m\u001b[1;33m[\u001b[0m\u001b[1;34m'강간(발생)'\u001b[0m\u001b[1;33m]\u001b[0m\u001b[1;33m*\u001b[0m\u001b[1;36m100\u001b[0m\u001b[1;33m\u001b[0m\u001b[1;33m\u001b[0m\u001b[0m\n\u001b[0m\u001b[0;32m      2\u001b[0m \u001b[0mframe_by_gu\u001b[0m\u001b[1;33m[\u001b[0m\u001b[1;34m'강도검거율'\u001b[0m\u001b[1;33m]\u001b[0m \u001b[1;33m=\u001b[0m \u001b[0mframe_by_gu\u001b[0m\u001b[1;33m[\u001b[0m\u001b[1;34m'강도(검거)'\u001b[0m\u001b[1;33m]\u001b[0m\u001b[1;33m/\u001b[0m\u001b[0mframe_by_gu\u001b[0m\u001b[1;33m[\u001b[0m\u001b[1;34m'강도(발생)'\u001b[0m\u001b[1;33m]\u001b[0m\u001b[1;33m*\u001b[0m\u001b[1;36m100\u001b[0m\u001b[1;33m\u001b[0m\u001b[1;33m\u001b[0m\u001b[0m\n\u001b[0;32m      3\u001b[0m \u001b[0mframe_by_gu\u001b[0m\u001b[1;33m[\u001b[0m\u001b[1;34m'살인검거율'\u001b[0m\u001b[1;33m]\u001b[0m \u001b[1;33m=\u001b[0m \u001b[0mframe_by_gu\u001b[0m\u001b[1;33m[\u001b[0m\u001b[1;34m'살인(검거)'\u001b[0m\u001b[1;33m]\u001b[0m\u001b[1;33m/\u001b[0m\u001b[0mframe_by_gu\u001b[0m\u001b[1;33m[\u001b[0m\u001b[1;34m'살인(발생)'\u001b[0m\u001b[1;33m]\u001b[0m\u001b[1;33m*\u001b[0m\u001b[1;36m100\u001b[0m\u001b[1;33m\u001b[0m\u001b[1;33m\u001b[0m\u001b[0m\n\u001b[0;32m      4\u001b[0m \u001b[0mframe_by_gu\u001b[0m\u001b[1;33m[\u001b[0m\u001b[1;34m'절도검거율'\u001b[0m\u001b[1;33m]\u001b[0m \u001b[1;33m=\u001b[0m \u001b[0mframe_by_gu\u001b[0m\u001b[1;33m[\u001b[0m\u001b[1;34m'절도(검거)'\u001b[0m\u001b[1;33m]\u001b[0m\u001b[1;33m/\u001b[0m\u001b[0mframe_by_gu\u001b[0m\u001b[1;33m[\u001b[0m\u001b[1;34m'절도(발생)'\u001b[0m\u001b[1;33m]\u001b[0m\u001b[1;33m*\u001b[0m\u001b[1;36m100\u001b[0m\u001b[1;33m\u001b[0m\u001b[1;33m\u001b[0m\u001b[0m\n\u001b[0;32m      5\u001b[0m \u001b[0mframe_by_gu\u001b[0m\u001b[1;33m[\u001b[0m\u001b[1;34m'폭력검거율'\u001b[0m\u001b[1;33m]\u001b[0m \u001b[1;33m=\u001b[0m \u001b[0mframe_by_gu\u001b[0m\u001b[1;33m[\u001b[0m\u001b[1;34m'폭력(검거)'\u001b[0m\u001b[1;33m]\u001b[0m\u001b[1;33m/\u001b[0m\u001b[0mframe_by_gu\u001b[0m\u001b[1;33m[\u001b[0m\u001b[1;34m'폭력(발생)'\u001b[0m\u001b[1;33m]\u001b[0m\u001b[1;33m*\u001b[0m\u001b[1;36m100\u001b[0m\u001b[1;33m\u001b[0m\u001b[1;33m\u001b[0m\u001b[0m\n",
      "\u001b[1;32mC:\\anaconda3\\lib\\site-packages\\pandas\\core\\frame.py\u001b[0m in \u001b[0;36m__getitem__\u001b[1;34m(self, key)\u001b[0m\n\u001b[0;32m   2798\u001b[0m             \u001b[1;32mif\u001b[0m \u001b[0mself\u001b[0m\u001b[1;33m.\u001b[0m\u001b[0mcolumns\u001b[0m\u001b[1;33m.\u001b[0m\u001b[0mnlevels\u001b[0m \u001b[1;33m>\u001b[0m \u001b[1;36m1\u001b[0m\u001b[1;33m:\u001b[0m\u001b[1;33m\u001b[0m\u001b[1;33m\u001b[0m\u001b[0m\n\u001b[0;32m   2799\u001b[0m                 \u001b[1;32mreturn\u001b[0m \u001b[0mself\u001b[0m\u001b[1;33m.\u001b[0m\u001b[0m_getitem_multilevel\u001b[0m\u001b[1;33m(\u001b[0m\u001b[0mkey\u001b[0m\u001b[1;33m)\u001b[0m\u001b[1;33m\u001b[0m\u001b[1;33m\u001b[0m\u001b[0m\n\u001b[1;32m-> 2800\u001b[1;33m             \u001b[0mindexer\u001b[0m \u001b[1;33m=\u001b[0m \u001b[0mself\u001b[0m\u001b[1;33m.\u001b[0m\u001b[0mcolumns\u001b[0m\u001b[1;33m.\u001b[0m\u001b[0mget_loc\u001b[0m\u001b[1;33m(\u001b[0m\u001b[0mkey\u001b[0m\u001b[1;33m)\u001b[0m\u001b[1;33m\u001b[0m\u001b[1;33m\u001b[0m\u001b[0m\n\u001b[0m\u001b[0;32m   2801\u001b[0m             \u001b[1;32mif\u001b[0m \u001b[0mis_integer\u001b[0m\u001b[1;33m(\u001b[0m\u001b[0mindexer\u001b[0m\u001b[1;33m)\u001b[0m\u001b[1;33m:\u001b[0m\u001b[1;33m\u001b[0m\u001b[1;33m\u001b[0m\u001b[0m\n\u001b[0;32m   2802\u001b[0m                 \u001b[0mindexer\u001b[0m \u001b[1;33m=\u001b[0m \u001b[1;33m[\u001b[0m\u001b[0mindexer\u001b[0m\u001b[1;33m]\u001b[0m\u001b[1;33m\u001b[0m\u001b[1;33m\u001b[0m\u001b[0m\n",
      "\u001b[1;32mC:\\anaconda3\\lib\\site-packages\\pandas\\core\\indexes\\base.py\u001b[0m in \u001b[0;36mget_loc\u001b[1;34m(self, key, method, tolerance)\u001b[0m\n\u001b[0;32m   2646\u001b[0m                 \u001b[1;32mreturn\u001b[0m \u001b[0mself\u001b[0m\u001b[1;33m.\u001b[0m\u001b[0m_engine\u001b[0m\u001b[1;33m.\u001b[0m\u001b[0mget_loc\u001b[0m\u001b[1;33m(\u001b[0m\u001b[0mkey\u001b[0m\u001b[1;33m)\u001b[0m\u001b[1;33m\u001b[0m\u001b[1;33m\u001b[0m\u001b[0m\n\u001b[0;32m   2647\u001b[0m             \u001b[1;32mexcept\u001b[0m \u001b[0mKeyError\u001b[0m\u001b[1;33m:\u001b[0m\u001b[1;33m\u001b[0m\u001b[1;33m\u001b[0m\u001b[0m\n\u001b[1;32m-> 2648\u001b[1;33m                 \u001b[1;32mreturn\u001b[0m \u001b[0mself\u001b[0m\u001b[1;33m.\u001b[0m\u001b[0m_engine\u001b[0m\u001b[1;33m.\u001b[0m\u001b[0mget_loc\u001b[0m\u001b[1;33m(\u001b[0m\u001b[0mself\u001b[0m\u001b[1;33m.\u001b[0m\u001b[0m_maybe_cast_indexer\u001b[0m\u001b[1;33m(\u001b[0m\u001b[0mkey\u001b[0m\u001b[1;33m)\u001b[0m\u001b[1;33m)\u001b[0m\u001b[1;33m\u001b[0m\u001b[1;33m\u001b[0m\u001b[0m\n\u001b[0m\u001b[0;32m   2649\u001b[0m         \u001b[0mindexer\u001b[0m \u001b[1;33m=\u001b[0m \u001b[0mself\u001b[0m\u001b[1;33m.\u001b[0m\u001b[0mget_indexer\u001b[0m\u001b[1;33m(\u001b[0m\u001b[1;33m[\u001b[0m\u001b[0mkey\u001b[0m\u001b[1;33m]\u001b[0m\u001b[1;33m,\u001b[0m \u001b[0mmethod\u001b[0m\u001b[1;33m=\u001b[0m\u001b[0mmethod\u001b[0m\u001b[1;33m,\u001b[0m \u001b[0mtolerance\u001b[0m\u001b[1;33m=\u001b[0m\u001b[0mtolerance\u001b[0m\u001b[1;33m)\u001b[0m\u001b[1;33m\u001b[0m\u001b[1;33m\u001b[0m\u001b[0m\n\u001b[0;32m   2650\u001b[0m         \u001b[1;32mif\u001b[0m \u001b[0mindexer\u001b[0m\u001b[1;33m.\u001b[0m\u001b[0mndim\u001b[0m \u001b[1;33m>\u001b[0m \u001b[1;36m1\u001b[0m \u001b[1;32mor\u001b[0m \u001b[0mindexer\u001b[0m\u001b[1;33m.\u001b[0m\u001b[0msize\u001b[0m \u001b[1;33m>\u001b[0m \u001b[1;36m1\u001b[0m\u001b[1;33m:\u001b[0m\u001b[1;33m\u001b[0m\u001b[1;33m\u001b[0m\u001b[0m\n",
      "\u001b[1;32mpandas\\_libs\\index.pyx\u001b[0m in \u001b[0;36mpandas._libs.index.IndexEngine.get_loc\u001b[1;34m()\u001b[0m\n",
      "\u001b[1;32mpandas\\_libs\\index.pyx\u001b[0m in \u001b[0;36mpandas._libs.index.IndexEngine.get_loc\u001b[1;34m()\u001b[0m\n",
      "\u001b[1;32mpandas\\_libs\\hashtable_class_helper.pxi\u001b[0m in \u001b[0;36mpandas._libs.hashtable.PyObjectHashTable.get_item\u001b[1;34m()\u001b[0m\n",
      "\u001b[1;32mpandas\\_libs\\hashtable_class_helper.pxi\u001b[0m in \u001b[0;36mpandas._libs.hashtable.PyObjectHashTable.get_item\u001b[1;34m()\u001b[0m\n",
      "\u001b[1;31mKeyError\u001b[0m: '강간(검거)'"
     ]
    }
   ],
   "source": [
    "frame_by_gu['강간검거율'] = frame_by_gu['강간(검거)']/frame_by_gu['강간(발생)']*100\n",
    "frame_by_gu['강도검거율'] = frame_by_gu['강도(검거)']/frame_by_gu['강도(발생)']*100\n",
    "frame_by_gu['살인검거율'] = frame_by_gu['살인(검거)']/frame_by_gu['살인(발생)']*100\n",
    "frame_by_gu['절도검거율'] = frame_by_gu['절도(검거)']/frame_by_gu['절도(발생)']*100\n",
    "frame_by_gu['폭력검거율'] = frame_by_gu['폭력(검거)']/frame_by_gu['폭력(발생)']*100\n",
    "frame_by_gu['검거율'] = frame_by_gu['범죄(검거)']/frame_by_gu['범죄(발생)']*100\n",
    "\n",
    "del frame_by_gu['강간(검거)']\n",
    "del frame_by_gu['강도(검거)']\n",
    "del frame_by_gu['살인(검거)']\n",
    "del frame_by_gu['절도(검거)']\n",
    "del frame_by_gu['폭력(검거)']\n",
    "\n",
    "frame_by_gu.head()"
   ]
  },
  {
   "cell_type": "code",
   "execution_count": 118,
   "metadata": {},
   "outputs": [
    {
     "data": {
      "text/html": [
       "<div>\n",
       "<style scoped>\n",
       "    .dataframe tbody tr th:only-of-type {\n",
       "        vertical-align: middle;\n",
       "    }\n",
       "\n",
       "    .dataframe tbody tr th {\n",
       "        vertical-align: top;\n",
       "    }\n",
       "\n",
       "    .dataframe thead th {\n",
       "        text-align: right;\n",
       "    }\n",
       "</style>\n",
       "<table border=\"1\" class=\"dataframe\">\n",
       "  <thead>\n",
       "    <tr style=\"text-align: right;\">\n",
       "      <th></th>\n",
       "      <th>강간</th>\n",
       "      <th>강도</th>\n",
       "      <th>범죄(발생)</th>\n",
       "      <th>살인</th>\n",
       "      <th>절도</th>\n",
       "      <th>폭력</th>\n",
       "      <th>강간검거율</th>\n",
       "      <th>강도검거율</th>\n",
       "      <th>살인검거율</th>\n",
       "      <th>절도검거율</th>\n",
       "      <th>폭력검거율</th>\n",
       "      <th>검거율</th>\n",
       "    </tr>\n",
       "    <tr>\n",
       "      <th>구별</th>\n",
       "      <th></th>\n",
       "      <th></th>\n",
       "      <th></th>\n",
       "      <th></th>\n",
       "      <th></th>\n",
       "      <th></th>\n",
       "      <th></th>\n",
       "      <th></th>\n",
       "      <th></th>\n",
       "      <th></th>\n",
       "      <th></th>\n",
       "      <th></th>\n",
       "    </tr>\n",
       "  </thead>\n",
       "  <tbody>\n",
       "    <tr>\n",
       "      <th>강남구</th>\n",
       "      <td>449</td>\n",
       "      <td>21</td>\n",
       "      <td>8617</td>\n",
       "      <td>13</td>\n",
       "      <td>3850</td>\n",
       "      <td>4284</td>\n",
       "      <td>77.728285</td>\n",
       "      <td>85.714286</td>\n",
       "      <td>76.923077</td>\n",
       "      <td>42.857143</td>\n",
       "      <td>86.484594</td>\n",
       "      <td>66.519670</td>\n",
       "    </tr>\n",
       "    <tr>\n",
       "      <th>강동구</th>\n",
       "      <td>156</td>\n",
       "      <td>6</td>\n",
       "      <td>5244</td>\n",
       "      <td>4</td>\n",
       "      <td>2366</td>\n",
       "      <td>2712</td>\n",
       "      <td>78.846154</td>\n",
       "      <td>133.333333</td>\n",
       "      <td>75.000000</td>\n",
       "      <td>33.347422</td>\n",
       "      <td>82.890855</td>\n",
       "      <td>60.469108</td>\n",
       "    </tr>\n",
       "    <tr>\n",
       "      <th>강북구</th>\n",
       "      <td>153</td>\n",
       "      <td>14</td>\n",
       "      <td>4257</td>\n",
       "      <td>7</td>\n",
       "      <td>1434</td>\n",
       "      <td>2649</td>\n",
       "      <td>82.352941</td>\n",
       "      <td>92.857143</td>\n",
       "      <td>114.285714</td>\n",
       "      <td>43.096234</td>\n",
       "      <td>88.637222</td>\n",
       "      <td>73.126615</td>\n",
       "    </tr>\n",
       "    <tr>\n",
       "      <th>강서구</th>\n",
       "      <td>262</td>\n",
       "      <td>13</td>\n",
       "      <td>5585</td>\n",
       "      <td>7</td>\n",
       "      <td>2096</td>\n",
       "      <td>3207</td>\n",
       "      <td>72.900763</td>\n",
       "      <td>100.000000</td>\n",
       "      <td>114.285714</td>\n",
       "      <td>60.114504</td>\n",
       "      <td>84.752105</td>\n",
       "      <td>75.022381</td>\n",
       "    </tr>\n",
       "    <tr>\n",
       "      <th>관악구</th>\n",
       "      <td>320</td>\n",
       "      <td>12</td>\n",
       "      <td>6345</td>\n",
       "      <td>9</td>\n",
       "      <td>2706</td>\n",
       "      <td>3298</td>\n",
       "      <td>69.062500</td>\n",
       "      <td>116.666667</td>\n",
       "      <td>88.888889</td>\n",
       "      <td>30.561715</td>\n",
       "      <td>80.109157</td>\n",
       "      <td>58.502758</td>\n",
       "    </tr>\n",
       "  </tbody>\n",
       "</table>\n",
       "</div>"
      ],
      "text/plain": [
       "      강간  강도  범죄(발생)  살인    절도    폭력      강간검거율       강도검거율       살인검거율  \\\n",
       "구별                                                                        \n",
       "강남구  449  21    8617  13  3850  4284  77.728285   85.714286   76.923077   \n",
       "강동구  156   6    5244   4  2366  2712  78.846154  133.333333   75.000000   \n",
       "강북구  153  14    4257   7  1434  2649  82.352941   92.857143  114.285714   \n",
       "강서구  262  13    5585   7  2096  3207  72.900763  100.000000  114.285714   \n",
       "관악구  320  12    6345   9  2706  3298  69.062500  116.666667   88.888889   \n",
       "\n",
       "         절도검거율      폭력검거율        검거율  \n",
       "구별                                    \n",
       "강남구  42.857143  86.484594  66.519670  \n",
       "강동구  33.347422  82.890855  60.469108  \n",
       "강북구  43.096234  88.637222  73.126615  \n",
       "강서구  60.114504  84.752105  75.022381  \n",
       "관악구  30.561715  80.109157  58.502758  "
      ]
     },
     "execution_count": 118,
     "metadata": {},
     "output_type": "execute_result"
    }
   ],
   "source": [
    "frame_by_gu.rename(columns = {'강간(발생)':'강간', \n",
    "                       '강도(발생)':'강도', \n",
    "                       '살인(발생)':'살인', \n",
    "                       '절도(발생)':'절도', \n",
    "                       '폭력(발생)':'폭력'}, inplace=True)\n",
    "del frame_by_gu['범죄(검거)']\n",
    "\n",
    "frame_by_gu.head()"
   ]
  },
  {
   "cell_type": "code",
   "execution_count": 122,
   "metadata": {},
   "outputs": [
    {
     "data": {
      "text/html": [
       "<div>\n",
       "<style scoped>\n",
       "    .dataframe tbody tr th:only-of-type {\n",
       "        vertical-align: middle;\n",
       "    }\n",
       "\n",
       "    .dataframe tbody tr th {\n",
       "        vertical-align: top;\n",
       "    }\n",
       "\n",
       "    .dataframe thead th {\n",
       "        text-align: right;\n",
       "    }\n",
       "</style>\n",
       "<table border=\"1\" class=\"dataframe\">\n",
       "  <thead>\n",
       "    <tr style=\"text-align: right;\">\n",
       "      <th></th>\n",
       "      <th>인구수</th>\n",
       "    </tr>\n",
       "    <tr>\n",
       "      <th>구별</th>\n",
       "      <th></th>\n",
       "    </tr>\n",
       "  </thead>\n",
       "  <tbody>\n",
       "    <tr>\n",
       "      <th>강남구</th>\n",
       "      <td>581760</td>\n",
       "    </tr>\n",
       "    <tr>\n",
       "      <th>강동구</th>\n",
       "      <td>463321</td>\n",
       "    </tr>\n",
       "    <tr>\n",
       "      <th>강북구</th>\n",
       "      <td>334426</td>\n",
       "    </tr>\n",
       "    <tr>\n",
       "      <th>강서구</th>\n",
       "      <td>595691</td>\n",
       "    </tr>\n",
       "    <tr>\n",
       "      <th>관악구</th>\n",
       "      <td>529031</td>\n",
       "    </tr>\n",
       "  </tbody>\n",
       "</table>\n",
       "</div>"
      ],
      "text/plain": [
       "        인구수\n",
       "구별         \n",
       "강남구  581760\n",
       "강동구  463321\n",
       "강북구  334426\n",
       "강서구  595691\n",
       "관악구  529031"
      ]
     },
     "execution_count": 122,
     "metadata": {},
     "output_type": "execute_result"
    }
   ],
   "source": [
    "population = pd.read_csv('C:/Users/ASIA_08/seoul_population.csv',index_col='구별')\n",
    "population.head()"
   ]
  },
  {
   "cell_type": "code",
   "execution_count": 123,
   "metadata": {},
   "outputs": [
    {
     "data": {
      "text/html": [
       "<div>\n",
       "<style scoped>\n",
       "    .dataframe tbody tr th:only-of-type {\n",
       "        vertical-align: middle;\n",
       "    }\n",
       "\n",
       "    .dataframe tbody tr th {\n",
       "        vertical-align: top;\n",
       "    }\n",
       "\n",
       "    .dataframe thead th {\n",
       "        text-align: right;\n",
       "    }\n",
       "</style>\n",
       "<table border=\"1\" class=\"dataframe\">\n",
       "  <thead>\n",
       "    <tr style=\"text-align: right;\">\n",
       "      <th></th>\n",
       "      <th>강간</th>\n",
       "      <th>강도</th>\n",
       "      <th>범죄(발생)</th>\n",
       "      <th>살인</th>\n",
       "      <th>절도</th>\n",
       "      <th>폭력</th>\n",
       "      <th>강간검거율</th>\n",
       "      <th>강도검거율</th>\n",
       "      <th>살인검거율</th>\n",
       "      <th>절도검거율</th>\n",
       "      <th>폭력검거율</th>\n",
       "      <th>검거율</th>\n",
       "      <th>인구수</th>\n",
       "    </tr>\n",
       "    <tr>\n",
       "      <th>구별</th>\n",
       "      <th></th>\n",
       "      <th></th>\n",
       "      <th></th>\n",
       "      <th></th>\n",
       "      <th></th>\n",
       "      <th></th>\n",
       "      <th></th>\n",
       "      <th></th>\n",
       "      <th></th>\n",
       "      <th></th>\n",
       "      <th></th>\n",
       "      <th></th>\n",
       "      <th></th>\n",
       "    </tr>\n",
       "  </thead>\n",
       "  <tbody>\n",
       "    <tr>\n",
       "      <th>강남구</th>\n",
       "      <td>449</td>\n",
       "      <td>21</td>\n",
       "      <td>8617</td>\n",
       "      <td>13</td>\n",
       "      <td>3850</td>\n",
       "      <td>4284</td>\n",
       "      <td>77.728285</td>\n",
       "      <td>85.714286</td>\n",
       "      <td>76.923077</td>\n",
       "      <td>42.857143</td>\n",
       "      <td>86.484594</td>\n",
       "      <td>66.519670</td>\n",
       "      <td>581760</td>\n",
       "    </tr>\n",
       "    <tr>\n",
       "      <th>강동구</th>\n",
       "      <td>156</td>\n",
       "      <td>6</td>\n",
       "      <td>5244</td>\n",
       "      <td>4</td>\n",
       "      <td>2366</td>\n",
       "      <td>2712</td>\n",
       "      <td>78.846154</td>\n",
       "      <td>133.333333</td>\n",
       "      <td>75.000000</td>\n",
       "      <td>33.347422</td>\n",
       "      <td>82.890855</td>\n",
       "      <td>60.469108</td>\n",
       "      <td>463321</td>\n",
       "    </tr>\n",
       "    <tr>\n",
       "      <th>강북구</th>\n",
       "      <td>153</td>\n",
       "      <td>14</td>\n",
       "      <td>4257</td>\n",
       "      <td>7</td>\n",
       "      <td>1434</td>\n",
       "      <td>2649</td>\n",
       "      <td>82.352941</td>\n",
       "      <td>92.857143</td>\n",
       "      <td>114.285714</td>\n",
       "      <td>43.096234</td>\n",
       "      <td>88.637222</td>\n",
       "      <td>73.126615</td>\n",
       "      <td>334426</td>\n",
       "    </tr>\n",
       "    <tr>\n",
       "      <th>강서구</th>\n",
       "      <td>262</td>\n",
       "      <td>13</td>\n",
       "      <td>5585</td>\n",
       "      <td>7</td>\n",
       "      <td>2096</td>\n",
       "      <td>3207</td>\n",
       "      <td>72.900763</td>\n",
       "      <td>100.000000</td>\n",
       "      <td>114.285714</td>\n",
       "      <td>60.114504</td>\n",
       "      <td>84.752105</td>\n",
       "      <td>75.022381</td>\n",
       "      <td>595691</td>\n",
       "    </tr>\n",
       "    <tr>\n",
       "      <th>관악구</th>\n",
       "      <td>320</td>\n",
       "      <td>12</td>\n",
       "      <td>6345</td>\n",
       "      <td>9</td>\n",
       "      <td>2706</td>\n",
       "      <td>3298</td>\n",
       "      <td>69.062500</td>\n",
       "      <td>116.666667</td>\n",
       "      <td>88.888889</td>\n",
       "      <td>30.561715</td>\n",
       "      <td>80.109157</td>\n",
       "      <td>58.502758</td>\n",
       "      <td>529031</td>\n",
       "    </tr>\n",
       "  </tbody>\n",
       "</table>\n",
       "</div>"
      ],
      "text/plain": [
       "      강간  강도  범죄(발생)  살인    절도    폭력      강간검거율       강도검거율       살인검거율  \\\n",
       "구별                                                                        \n",
       "강남구  449  21    8617  13  3850  4284  77.728285   85.714286   76.923077   \n",
       "강동구  156   6    5244   4  2366  2712  78.846154  133.333333   75.000000   \n",
       "강북구  153  14    4257   7  1434  2649  82.352941   92.857143  114.285714   \n",
       "강서구  262  13    5585   7  2096  3207  72.900763  100.000000  114.285714   \n",
       "관악구  320  12    6345   9  2706  3298  69.062500  116.666667   88.888889   \n",
       "\n",
       "         절도검거율      폭력검거율        검거율     인구수  \n",
       "구별                                            \n",
       "강남구  42.857143  86.484594  66.519670  581760  \n",
       "강동구  33.347422  82.890855  60.469108  463321  \n",
       "강북구  43.096234  88.637222  73.126615  334426  \n",
       "강서구  60.114504  84.752105  75.022381  595691  \n",
       "관악구  30.561715  80.109157  58.502758  529031  "
      ]
     },
     "execution_count": 123,
     "metadata": {},
     "output_type": "execute_result"
    }
   ],
   "source": [
    "frame_by_gu=frame_by_gu.join(population)\n",
    "frame_by_gu.head()"
   ]
  },
  {
   "cell_type": "code",
   "execution_count": 124,
   "metadata": {},
   "outputs": [
    {
     "data": {
      "text/html": [
       "<div>\n",
       "<style scoped>\n",
       "    .dataframe tbody tr th:only-of-type {\n",
       "        vertical-align: middle;\n",
       "    }\n",
       "\n",
       "    .dataframe tbody tr th {\n",
       "        vertical-align: top;\n",
       "    }\n",
       "\n",
       "    .dataframe thead th {\n",
       "        text-align: right;\n",
       "    }\n",
       "</style>\n",
       "<table border=\"1\" class=\"dataframe\">\n",
       "  <thead>\n",
       "    <tr style=\"text-align: right;\">\n",
       "      <th></th>\n",
       "      <th>강간</th>\n",
       "      <th>강도</th>\n",
       "      <th>범죄(발생)</th>\n",
       "      <th>살인</th>\n",
       "      <th>절도</th>\n",
       "      <th>폭력</th>\n",
       "      <th>강간검거율</th>\n",
       "      <th>강도검거율</th>\n",
       "      <th>살인검거율</th>\n",
       "      <th>절도검거율</th>\n",
       "      <th>폭력검거율</th>\n",
       "      <th>검거율</th>\n",
       "      <th>인구수</th>\n",
       "    </tr>\n",
       "    <tr>\n",
       "      <th>구별</th>\n",
       "      <th></th>\n",
       "      <th></th>\n",
       "      <th></th>\n",
       "      <th></th>\n",
       "      <th></th>\n",
       "      <th></th>\n",
       "      <th></th>\n",
       "      <th></th>\n",
       "      <th></th>\n",
       "      <th></th>\n",
       "      <th></th>\n",
       "      <th></th>\n",
       "      <th></th>\n",
       "    </tr>\n",
       "  </thead>\n",
       "  <tbody>\n",
       "    <tr>\n",
       "      <th>강서구</th>\n",
       "      <td>262</td>\n",
       "      <td>13</td>\n",
       "      <td>5585</td>\n",
       "      <td>7</td>\n",
       "      <td>2096</td>\n",
       "      <td>3207</td>\n",
       "      <td>72.900763</td>\n",
       "      <td>100.000000</td>\n",
       "      <td>114.285714</td>\n",
       "      <td>60.114504</td>\n",
       "      <td>84.752105</td>\n",
       "      <td>75.022381</td>\n",
       "      <td>595691</td>\n",
       "    </tr>\n",
       "    <tr>\n",
       "      <th>금천구</th>\n",
       "      <td>151</td>\n",
       "      <td>6</td>\n",
       "      <td>3781</td>\n",
       "      <td>3</td>\n",
       "      <td>1567</td>\n",
       "      <td>2054</td>\n",
       "      <td>80.794702</td>\n",
       "      <td>100.000000</td>\n",
       "      <td>133.333333</td>\n",
       "      <td>56.668794</td>\n",
       "      <td>86.465433</td>\n",
       "      <td>73.948691</td>\n",
       "      <td>256167</td>\n",
       "    </tr>\n",
       "    <tr>\n",
       "      <th>강북구</th>\n",
       "      <td>153</td>\n",
       "      <td>14</td>\n",
       "      <td>4257</td>\n",
       "      <td>7</td>\n",
       "      <td>1434</td>\n",
       "      <td>2649</td>\n",
       "      <td>82.352941</td>\n",
       "      <td>92.857143</td>\n",
       "      <td>114.285714</td>\n",
       "      <td>43.096234</td>\n",
       "      <td>88.637222</td>\n",
       "      <td>73.126615</td>\n",
       "      <td>334426</td>\n",
       "    </tr>\n",
       "    <tr>\n",
       "      <th>도봉구</th>\n",
       "      <td>102</td>\n",
       "      <td>9</td>\n",
       "      <td>2664</td>\n",
       "      <td>3</td>\n",
       "      <td>1063</td>\n",
       "      <td>1487</td>\n",
       "      <td>103.921569</td>\n",
       "      <td>111.111111</td>\n",
       "      <td>100.000000</td>\n",
       "      <td>44.967074</td>\n",
       "      <td>87.626093</td>\n",
       "      <td>71.321321</td>\n",
       "      <td>353241</td>\n",
       "    </tr>\n",
       "    <tr>\n",
       "      <th>동대문구</th>\n",
       "      <td>173</td>\n",
       "      <td>13</td>\n",
       "      <td>4720</td>\n",
       "      <td>5</td>\n",
       "      <td>1981</td>\n",
       "      <td>2548</td>\n",
       "      <td>84.393064</td>\n",
       "      <td>100.000000</td>\n",
       "      <td>100.000000</td>\n",
       "      <td>41.090358</td>\n",
       "      <td>87.401884</td>\n",
       "      <td>67.902542</td>\n",
       "      <td>373824</td>\n",
       "    </tr>\n",
       "  </tbody>\n",
       "</table>\n",
       "</div>"
      ],
      "text/plain": [
       "       강간  강도  범죄(발생)  살인    절도    폭력       강간검거율       강도검거율       살인검거율  \\\n",
       "구별                                                                          \n",
       "강서구   262  13    5585   7  2096  3207   72.900763  100.000000  114.285714   \n",
       "금천구   151   6    3781   3  1567  2054   80.794702  100.000000  133.333333   \n",
       "강북구   153  14    4257   7  1434  2649   82.352941   92.857143  114.285714   \n",
       "도봉구   102   9    2664   3  1063  1487  103.921569  111.111111  100.000000   \n",
       "동대문구  173  13    4720   5  1981  2548   84.393064  100.000000  100.000000   \n",
       "\n",
       "          절도검거율      폭력검거율        검거율     인구수  \n",
       "구별                                             \n",
       "강서구   60.114504  84.752105  75.022381  595691  \n",
       "금천구   56.668794  86.465433  73.948691  256167  \n",
       "강북구   43.096234  88.637222  73.126615  334426  \n",
       "도봉구   44.967074  87.626093  71.321321  353241  \n",
       "동대문구  41.090358  87.401884  67.902542  373824  "
      ]
     },
     "execution_count": 124,
     "metadata": {},
     "output_type": "execute_result"
    }
   ],
   "source": [
    "frame_by_gu.sort_values(by='검거율',ascending=False).head(5)"
   ]
  },
  {
   "cell_type": "code",
   "execution_count": 126,
   "metadata": {},
   "outputs": [
    {
     "data": {
      "text/html": [
       "<div>\n",
       "<style scoped>\n",
       "    .dataframe tbody tr th:only-of-type {\n",
       "        vertical-align: middle;\n",
       "    }\n",
       "\n",
       "    .dataframe tbody tr th {\n",
       "        vertical-align: top;\n",
       "    }\n",
       "\n",
       "    .dataframe thead th {\n",
       "        text-align: right;\n",
       "    }\n",
       "</style>\n",
       "<table border=\"1\" class=\"dataframe\">\n",
       "  <thead>\n",
       "    <tr style=\"text-align: right;\">\n",
       "      <th></th>\n",
       "      <th>강간</th>\n",
       "      <th>강도</th>\n",
       "      <th>범죄(발생)</th>\n",
       "      <th>살인</th>\n",
       "      <th>절도</th>\n",
       "      <th>폭력</th>\n",
       "      <th>강간검거율</th>\n",
       "      <th>강도검거율</th>\n",
       "      <th>살인검거율</th>\n",
       "      <th>절도검거율</th>\n",
       "      <th>폭력검거율</th>\n",
       "      <th>검거율</th>\n",
       "      <th>인구수</th>\n",
       "      <th>범죄/인구수</th>\n",
       "    </tr>\n",
       "    <tr>\n",
       "      <th>구별</th>\n",
       "      <th></th>\n",
       "      <th></th>\n",
       "      <th></th>\n",
       "      <th></th>\n",
       "      <th></th>\n",
       "      <th></th>\n",
       "      <th></th>\n",
       "      <th></th>\n",
       "      <th></th>\n",
       "      <th></th>\n",
       "      <th></th>\n",
       "      <th></th>\n",
       "      <th></th>\n",
       "      <th></th>\n",
       "    </tr>\n",
       "  </thead>\n",
       "  <tbody>\n",
       "    <tr>\n",
       "      <th>중구</th>\n",
       "      <td>170</td>\n",
       "      <td>9</td>\n",
       "      <td>4954</td>\n",
       "      <td>3</td>\n",
       "      <td>2548</td>\n",
       "      <td>2224</td>\n",
       "      <td>65.294118</td>\n",
       "      <td>66.666667</td>\n",
       "      <td>66.666667</td>\n",
       "      <td>33.712716</td>\n",
       "      <td>88.309353</td>\n",
       "      <td>59.386354</td>\n",
       "      <td>134329</td>\n",
       "      <td>0.036880</td>\n",
       "    </tr>\n",
       "    <tr>\n",
       "      <th>종로구</th>\n",
       "      <td>211</td>\n",
       "      <td>11</td>\n",
       "      <td>4705</td>\n",
       "      <td>6</td>\n",
       "      <td>2184</td>\n",
       "      <td>2293</td>\n",
       "      <td>76.303318</td>\n",
       "      <td>81.818182</td>\n",
       "      <td>83.333333</td>\n",
       "      <td>38.324176</td>\n",
       "      <td>84.212822</td>\n",
       "      <td>62.550478</td>\n",
       "      <td>163822</td>\n",
       "      <td>0.028720</td>\n",
       "    </tr>\n",
       "    <tr>\n",
       "      <th>영등포구</th>\n",
       "      <td>295</td>\n",
       "      <td>22</td>\n",
       "      <td>6867</td>\n",
       "      <td>14</td>\n",
       "      <td>2964</td>\n",
       "      <td>3572</td>\n",
       "      <td>62.033898</td>\n",
       "      <td>90.909091</td>\n",
       "      <td>85.714286</td>\n",
       "      <td>32.995951</td>\n",
       "      <td>82.894737</td>\n",
       "      <td>60.492209</td>\n",
       "      <td>417811</td>\n",
       "      <td>0.016436</td>\n",
       "    </tr>\n",
       "  </tbody>\n",
       "</table>\n",
       "</div>"
      ],
      "text/plain": [
       "       강간  강도  범죄(발생)  살인    절도    폭력      강간검거율      강도검거율      살인검거율  \\\n",
       "구별                                                                       \n",
       "중구    170   9    4954   3  2548  2224  65.294118  66.666667  66.666667   \n",
       "종로구   211  11    4705   6  2184  2293  76.303318  81.818182  83.333333   \n",
       "영등포구  295  22    6867  14  2964  3572  62.033898  90.909091  85.714286   \n",
       "\n",
       "          절도검거율      폭력검거율        검거율     인구수    범죄/인구수  \n",
       "구별                                                       \n",
       "중구    33.712716  88.309353  59.386354  134329  0.036880  \n",
       "종로구   38.324176  84.212822  62.550478  163822  0.028720  \n",
       "영등포구  32.995951  82.894737  60.492209  417811  0.016436  "
      ]
     },
     "execution_count": 126,
     "metadata": {},
     "output_type": "execute_result"
    }
   ],
   "source": [
    "frame_by_gu['범죄/인구수']=frame_by_gu['범죄(발생)']/frame_by_gu['인구수']\n",
    "frame_by_gu.sort_values(by='범죄/인구수',ascending=False).head(3)"
   ]
  },
  {
   "cell_type": "code",
   "execution_count": 130,
   "metadata": {},
   "outputs": [
    {
     "data": {
      "text/html": [
       "<div>\n",
       "<style scoped>\n",
       "    .dataframe tbody tr th:only-of-type {\n",
       "        vertical-align: middle;\n",
       "    }\n",
       "\n",
       "    .dataframe tbody tr th {\n",
       "        vertical-align: top;\n",
       "    }\n",
       "\n",
       "    .dataframe thead th {\n",
       "        text-align: right;\n",
       "    }\n",
       "</style>\n",
       "<table border=\"1\" class=\"dataframe\">\n",
       "  <thead>\n",
       "    <tr style=\"text-align: right;\">\n",
       "      <th></th>\n",
       "      <th>강간</th>\n",
       "      <th>강도</th>\n",
       "      <th>살인</th>\n",
       "      <th>절도</th>\n",
       "      <th>폭력</th>\n",
       "      <th>범죄(발생)</th>\n",
       "    </tr>\n",
       "    <tr>\n",
       "      <th>구별</th>\n",
       "      <th></th>\n",
       "      <th></th>\n",
       "      <th></th>\n",
       "      <th></th>\n",
       "      <th></th>\n",
       "      <th></th>\n",
       "    </tr>\n",
       "  </thead>\n",
       "  <tbody>\n",
       "    <tr>\n",
       "      <th>강남구</th>\n",
       "      <td>0.772829</td>\n",
       "      <td>0.727273</td>\n",
       "      <td>0.785714</td>\n",
       "      <td>0.723896</td>\n",
       "      <td>0.652894</td>\n",
       "      <td>0.690844</td>\n",
       "    </tr>\n",
       "    <tr>\n",
       "      <th>영등포구</th>\n",
       "      <td>0.429844</td>\n",
       "      <td>0.772727</td>\n",
       "      <td>0.857143</td>\n",
       "      <td>0.493766</td>\n",
       "      <td>0.486695</td>\n",
       "      <td>0.487757</td>\n",
       "    </tr>\n",
       "    <tr>\n",
       "      <th>송파구</th>\n",
       "      <td>0.262806</td>\n",
       "      <td>0.363636</td>\n",
       "      <td>0.642857</td>\n",
       "      <td>0.565195</td>\n",
       "      <td>0.422035</td>\n",
       "      <td>0.477428</td>\n",
       "    </tr>\n",
       "    <tr>\n",
       "      <th>관악구</th>\n",
       "      <td>0.485523</td>\n",
       "      <td>0.318182</td>\n",
       "      <td>0.500000</td>\n",
       "      <td>0.426753</td>\n",
       "      <td>0.422736</td>\n",
       "      <td>0.427179</td>\n",
       "    </tr>\n",
       "    <tr>\n",
       "      <th>광진구</th>\n",
       "      <td>0.307350</td>\n",
       "      <td>0.409091</td>\n",
       "      <td>0.142857</td>\n",
       "      <td>0.509870</td>\n",
       "      <td>0.265640</td>\n",
       "      <td>0.376581</td>\n",
       "    </tr>\n",
       "  </tbody>\n",
       "</table>\n",
       "</div>"
      ],
      "text/plain": [
       "            강간        강도        살인        절도        폭력    범죄(발생)\n",
       "구별                                                              \n",
       "강남구   0.772829  0.727273  0.785714  0.723896  0.652894  0.690844\n",
       "영등포구  0.429844  0.772727  0.857143  0.493766  0.486695  0.487757\n",
       "송파구   0.262806  0.363636  0.642857  0.565195  0.422035  0.477428\n",
       "관악구   0.485523  0.318182  0.500000  0.426753  0.422736  0.427179\n",
       "광진구   0.307350  0.409091  0.142857  0.509870  0.265640  0.376581"
      ]
     },
     "execution_count": 130,
     "metadata": {},
     "output_type": "execute_result"
    }
   ],
   "source": [
    "target_col = ['강간', '강도', '살인', '절도', '폭력','범죄(발생)']\n",
    "max_column = frame_by_gu[target_col].max() # vector\n",
    "min_column = frame_by_gu[target_col].min()\n",
    "crime_count_norm = (frame_by_gu[target_col] - min_column)/max_column #표준점수만드는\n",
    "crime_count_norm.sort_values(by='범죄(발생)',ascending=False).head()"
   ]
  },
  {
   "cell_type": "code",
   "execution_count": 158,
   "metadata": {},
   "outputs": [],
   "source": [
    "from matplotlib import font_manager,rc\n",
    "path='C:/Windows/Fonts/malgun.ttf'\n",
    "font_name=font_manager.FontProperties(fname=path).get_name()\n",
    "rc('font',family=font_name)"
   ]
  },
  {
   "cell_type": "code",
   "execution_count": 159,
   "metadata": {},
   "outputs": [
    {
     "data": {
      "image/png": "[encoded data removed]",
      "text/plain": [
       "<Figure size 720x720 with 2 Axes>"
      ]
     },
     "metadata": {
      "needs_background": "light"
     },
     "output_type": "display_data"
    }
   ],
   "source": [
    "plt.figure(figsize = (10,10))\n",
    "sns.heatmap(crime_count_norm.sort_values(by='범죄(발생)', ascending=False), annot=True, fmt='f', linewidths=.5)\n",
    "plt.title('서울시 구별 강력범죄 발생빈도')\n",
    "plt.show()"
   ]
  },
  {
   "cell_type": "code",
   "execution_count": 160,
   "metadata": {},
   "outputs": [
    {
     "data": {
      "text/html": [
       "<div>\n",
       "<style scoped>\n",
       "    .dataframe tbody tr th:only-of-type {\n",
       "        vertical-align: middle;\n",
       "    }\n",
       "\n",
       "    .dataframe tbody tr th {\n",
       "        vertical-align: top;\n",
       "    }\n",
       "\n",
       "    .dataframe thead th {\n",
       "        text-align: right;\n",
       "    }\n",
       "</style>\n",
       "<table border=\"1\" class=\"dataframe\">\n",
       "  <thead>\n",
       "    <tr style=\"text-align: right;\">\n",
       "      <th></th>\n",
       "      <th>강간</th>\n",
       "      <th>강도</th>\n",
       "      <th>살인</th>\n",
       "      <th>절도</th>\n",
       "      <th>폭력</th>\n",
       "      <th>범죄(발생)</th>\n",
       "    </tr>\n",
       "    <tr>\n",
       "      <th>구별</th>\n",
       "      <th></th>\n",
       "      <th></th>\n",
       "      <th></th>\n",
       "      <th></th>\n",
       "      <th></th>\n",
       "      <th></th>\n",
       "    </tr>\n",
       "  </thead>\n",
       "  <tbody>\n",
       "    <tr>\n",
       "      <th>강남구</th>\n",
       "      <td>0.408703</td>\n",
       "      <td>0.379011</td>\n",
       "      <td>0.447146</td>\n",
       "      <td>0.190242</td>\n",
       "      <td>0.190517</td>\n",
       "      <td>0.197138</td>\n",
       "    </tr>\n",
       "    <tr>\n",
       "      <th>강동구</th>\n",
       "      <td>0.070891</td>\n",
       "      <td>0.034279</td>\n",
       "      <td>0.072740</td>\n",
       "      <td>0.110570</td>\n",
       "      <td>0.099285</td>\n",
       "      <td>0.102406</td>\n",
       "    </tr>\n",
       "    <tr>\n",
       "      <th>강북구</th>\n",
       "      <td>0.164681</td>\n",
       "      <td>0.464875</td>\n",
       "      <td>0.408522</td>\n",
       "      <td>0.067411</td>\n",
       "      <td>0.224170</td>\n",
       "      <td>0.140665</td>\n",
       "    </tr>\n",
       "    <tr>\n",
       "      <th>강서구</th>\n",
       "      <td>0.150958</td>\n",
       "      <td>0.166430</td>\n",
       "      <td>0.157865</td>\n",
       "      <td>0.026851</td>\n",
       "      <td>0.070914</td>\n",
       "      <td>0.049731</td>\n",
       "    </tr>\n",
       "    <tr>\n",
       "      <th>관악구</th>\n",
       "      <td>0.279107</td>\n",
       "      <td>0.179232</td>\n",
       "      <td>0.301515</td>\n",
       "      <td>0.111013</td>\n",
       "      <td>0.122276</td>\n",
       "      <td>0.120718</td>\n",
       "    </tr>\n",
       "  </tbody>\n",
       "</table>\n",
       "</div>"
      ],
      "text/plain": [
       "           강간        강도        살인        절도        폭력    범죄(발생)\n",
       "구별                                                             \n",
       "강남구  0.408703  0.379011  0.447146  0.190242  0.190517  0.197138\n",
       "강동구  0.070891  0.034279  0.072740  0.110570  0.099285  0.102406\n",
       "강북구  0.164681  0.464875  0.408522  0.067411  0.224170  0.140665\n",
       "강서구  0.150958  0.166430  0.157865  0.026851  0.070914  0.049731\n",
       "관악구  0.279107  0.179232  0.301515  0.111013  0.122276  0.120718"
      ]
     },
     "execution_count": 160,
     "metadata": {},
     "output_type": "execute_result"
    }
   ],
   "source": [
    "\n",
    "target_col = ['강간', '강도', '살인', '절도', '폭력','범죄(발생)']\n",
    "frame_temp = frame_by_gu[target_col].div(frame_by_gu['인구수'],axis=0)\n",
    "max_column = frame_temp.max() # vector\n",
    "min_column = frame_temp.min()\n",
    "crime_count_norm = (frame_temp - min_column)/max_column\n",
    "crime_count_norm.head()"
   ]
  },
  {
   "cell_type": "code",
   "execution_count": 161,
   "metadata": {
    "scrolled": true
   },
   "outputs": [
    {
     "data": {
      "image/png": "[encoded data removed]",
      "text/plain": [
       "<Figure size 720x720 with 2 Axes>"
      ]
     },
     "metadata": {
      "needs_background": "light"
     },
     "output_type": "display_data"
    }
   ],
   "source": [
    "\n",
    "plt.figure(figsize = (10,10))\n",
    "sns.heatmap(crime_count_norm.sort_values(by='범죄(발생)', ascending=False), annot=True, fmt='f', linewidths=.5)\n",
    "plt.title('서울시 구별 인구수대비 강력범죄 발생빈도')\n",
    "plt.show()"
   ]
  },
  {
   "cell_type": "code",
   "execution_count": 148,
   "metadata": {},
   "outputs": [
    {
     "data": {
      "text/html": [
       "<div style=\"width:100%;\"><div style=\"position:relative;width:100%;height:0;padding-bottom:60%;\"><span style=\"color:#565656\">Make this Notebook Trusted to load map: File -> Trust Notebook</span><iframe src=\"about:blank\" style=\"position:absolute;width:100%;height:100%;left:0;top:0;border:none !important;\" data-html=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 onload=\"this.contentDocument.open();this.contentDocument.write(atob(this.getAttribute('data-html')));this.contentDocument.close();\" allowfullscreen webkitallowfullscreen mozallowfullscreen></iframe></div></div>"
      ],
      "text/plain": [
       "<folium.folium.Map at 0x1b3ffed6040>"
      ]
     },
     "execution_count": 148,
     "metadata": {},
     "output_type": "execute_result"
    }
   ],
   "source": [
    "import json\n",
    "import folium\n",
    "import warnings\n",
    "warnings.simplefilter(action='ignore',category=FutureWarning)\n",
    "geo_path='C:/Users/ASIA_08/skorea_municipalities_geo_simple.json'\n",
    "geo_str = json.load(open(geo_path, encoding='utf-8'))\n",
    "\n",
    "map = folium.Map(location=[37.5502, 126.982], zoom_start=11, tiles='Stamen Toner')\n",
    "\n",
    "map.choropleth(geo_data = geo_str,\n",
    "               data = frame_by_gu['살인'],\n",
    "               columns = [frame_by_gu.index, frame_by_gu['살인']],\n",
    "               fill_color = 'PuRd', #PuRd, YlGnBu\n",
    "               key_on = 'feature.id')\n",
    "map"
   ]
  },
  {
   "cell_type": "code",
   "execution_count": null,
   "metadata": {},
   "outputs": [],
   "source": []
  }
 ],
 "metadata": {
  "kernelspec": {
   "display_name": "Python 3",
   "language": "python",
   "name": "python3"
  },
  "language_info": {
   "codemirror_mode": {
    "name": "ipython",
    "version": 3
   },
   "file_extension": ".py",
   "mimetype": "text/x-python",
   "name": "python",
   "nbconvert_exporter": "python",
   "pygments_lexer": "ipython3",
   "version": "3.8.3"
  }
 },
 "nbformat": 4,
 "nbformat_minor": 4
}
